{
 "cells": [
  {
   "cell_type": "markdown",
   "metadata": {},
   "source": [
    "# WeatherPy\n",
    "----\n",
    "\n",
    "#### Note\n",
    "* Instructions have been included for each segment. You do not have to follow them exactly, but they are included to help you think through the steps."
   ]
  },
  {
   "cell_type": "code",
   "execution_count": 75,
   "metadata": {
    "scrolled": true
   },
   "outputs": [],
   "source": [
    "# Dependencies and Setup\n",
    "import matplotlib.pyplot as plt\n",
    "import pandas as pd\n",
    "import numpy as np\n",
    "import requests\n",
    "import time\n",
    "from scipy.stats import linregress\n",
    "from datetime import datetime\n",
    "from matplotlib import pyplot as plt\n",
    "from datetime import datetime\n",
    "\n",
    "# Import API key\n",
    "from api_keys import weather_api_key\n",
    "\n",
    "\n",
    "# Incorporated citipy to determine city based on latitude and longitude\n",
    "from citipy import citipy\n",
    "\n",
    "# Output File (CSV)\n",
    "output_data_file = \"../output_data/cities.csv\"\n",
    "\n",
    "# Range of latitudes and longitudes\n",
    "lat_range = (-90, 90)\n",
    "lng_range = (-180, 180)\n"
   ]
  },
  {
   "cell_type": "markdown",
   "metadata": {},
   "source": [
    "## Generate Cities List"
   ]
  },
  {
   "cell_type": "code",
   "execution_count": 32,
   "metadata": {},
   "outputs": [
    {
     "data": {
      "text/plain": [
       "624"
      ]
     },
     "execution_count": 32,
     "metadata": {},
     "output_type": "execute_result"
    }
   ],
   "source": [
    "# List for holding lat_lngs and cities\n",
    "lat_lngs = []\n",
    "cities = []\n",
    "\n",
    "# Create a set of random lat and lng combinations\n",
    "lats = np.random.uniform(lat_range[0], lat_range[1], size=1500)\n",
    "lngs = np.random.uniform(lng_range[0], lng_range[1], size=1500)\n",
    "lat_lngs = zip(lats, lngs)\n",
    "\n",
    "# Identify nearest city for each lat, lng combination\n",
    "for lat_lng in lat_lngs:\n",
    "    city = citipy.nearest_city(lat_lng[0], lat_lng[1]).city_name\n",
    "    \n",
    "    # If the city is unique, then add it to a our cities list\n",
    "    if city not in cities:\n",
    "        cities.append(city)\n",
    "\n",
    "# Print the city count to confirm sufficient count\n",
    "len(cities)\n"
   ]
  },
  {
   "cell_type": "markdown",
   "metadata": {},
   "source": [
    "## Perform API Calls\n",
    "* Perform a weather check on each city using a series of successive API calls.\n",
    "* Include a print log of each city as it'sbeing processed (with the city number and city name).\n"
   ]
  },
  {
   "cell_type": "code",
   "execution_count": 33,
   "metadata": {},
   "outputs": [],
   "source": [
    "url = \"http://api.openweathermap.org/data/2.5/weather?\"\n",
    "units = \"imperial\"\n",
    "\n",
    "# Build partial query URL\n",
    "query_url = f\"{url}appid={weather_api_key}&units={units}&q=\"\n",
    "#print(query_url)"
   ]
  },
  {
   "cell_type": "code",
   "execution_count": 34,
   "metadata": {
    "scrolled": true
   },
   "outputs": [
    {
     "name": "stdout",
     "output_type": "stream",
     "text": [
      "belushya guba city not found\n",
      "recorded 1: longyearbyen\n",
      "recorded 2: itarema\n",
      "recorded 3: new norfolk\n",
      "recorded 4: rikitea\n",
      "recorded 5: barrow\n",
      "recorded 6: avarua\n",
      "recorded 7: albany\n",
      "karamay city not found\n",
      "recorded 8: komsomolskiy\n",
      "recorded 9: la ronge\n",
      "recorded 10: oranjemund\n",
      "recorded 11: bluff\n",
      "recorded 12: bethel\n",
      "recorded 13: faya\n",
      "ramasukha city not found\n",
      "recorded 14: saldanha\n",
      "recorded 15: port-gentil\n",
      "recorded 16: georgetown\n",
      "recorded 17: ushuaia\n",
      "recorded 18: mayumba\n",
      "recorded 19: sinop\n",
      "recorded 20: narrabri\n",
      "recorded 21: ribeira grande\n",
      "recorded 22: saint anthony\n",
      "recorded 23: norman wells\n",
      "recorded 24: tuktoyaktuk\n",
      "recorded 25: constitucion\n",
      "recorded 26: provideniya\n",
      "umzimvubu city not found\n",
      "recorded 27: vaini\n",
      "recorded 28: mataura\n",
      "mys shmidta city not found\n",
      "recorded 29: busselton\n",
      "illoqqortoormiut city not found\n",
      "recorded 30: damienesti\n",
      "recorded 31: cape town\n",
      "recorded 32: thompson\n",
      "recorded 33: ucluelet\n",
      "recorded 34: carnarvon\n",
      "recorded 35: goure\n",
      "recorded 36: miles city\n",
      "samusu city not found\n",
      "recorded 37: afua\n",
      "recorded 38: torbay\n",
      "recorded 39: cabo san lucas\n",
      "recorded 40: lompoc\n",
      "recorded 41: punta arenas\n",
      "recorded 42: wattegama\n",
      "recorded 43: mayo\n",
      "recorded 44: ponta do sol\n",
      "barentsburg city not found\n",
      "paradwip city not found\n",
      "recorded 45: san andres\n",
      "recorded 46: roald\n",
      "recorded 47: flinders\n",
      "recorded 48: geraldton\n",
      "kazalinsk city not found\n",
      "grand river south east city not found\n",
      "recorded 49: hermanus\n",
      "recorded 50: port alfred\n",
      "recorded 51: henties bay\n",
      "marcona city not found\n",
      "recorded 52: aksu\n",
      "recorded 53: itigi\n",
      "recorded 54: cayenne\n",
      "tabiauea city not found\n",
      "tumannyy city not found\n",
      "recorded 55: cutlerville\n",
      "recorded 56: east london\n",
      "recorded 57: lebu\n",
      "recorded 58: taksimo\n",
      "recorded 59: narsaq\n",
      "recorded 60: lorengau\n",
      "recorded 61: santa cruz\n",
      "recorded 62: tiznit\n",
      "recorded 63: port blair\n",
      "recorded 64: brae\n",
      "recorded 65: hilo\n",
      "recorded 66: ust-uda\n",
      "recorded 67: salinopolis\n",
      "recorded 68: severo-kurilsk\n",
      "recorded 69: walvis bay\n",
      "recorded 70: oksfjord\n",
      "recorded 71: quatre cocos\n",
      "recorded 72: kodiak\n",
      "recorded 73: bettendorf\n",
      "ayer itam city not found\n",
      "recorded 74: vardo\n",
      "recorded 75: inhambane\n",
      "recorded 76: gat\n",
      "recorded 77: bassar\n",
      "recorded 78: big rapids\n",
      "barawe city not found\n",
      "recorded 79: ancud\n",
      "recorded 80: kapaa\n",
      "recorded 81: port hardy\n",
      "recorded 82: zonguldak\n",
      "recorded 83: zatoka\n",
      "recorded 84: bambous virieux\n",
      "recorded 85: yulara\n",
      "recorded 86: vanimo\n",
      "recorded 87: ariquemes\n",
      "recorded 88: qaanaaq\n",
      "recorded 89: adrar\n",
      "recorded 90: iqaluit\n",
      "recorded 91: fairbanks\n",
      "recorded 92: saskylakh\n",
      "recorded 93: hobart\n",
      "recorded 94: yuanping\n",
      "recorded 95: pindiga\n",
      "recorded 96: vila franca do campo\n",
      "recorded 97: butaritari\n",
      "recorded 98: nyagan\n",
      "recorded 99: tasiilaq\n",
      "taolanaro city not found\n",
      "recorded 100: esperance\n",
      "recorded 101: mircesti\n",
      "recorded 102: beyneu\n",
      "recorded 103: puerto ayora\n",
      "recorded 104: spas-demensk\n",
      "recorded 105: bay roberts\n",
      "recorded 106: khatanga\n",
      "recorded 107: nome\n",
      "recorded 108: machali\n",
      "recorded 109: eagle pass\n",
      "recorded 110: bonthe\n",
      "recorded 111: kaitangata\n",
      "recorded 112: husavik\n",
      "recorded 113: tromso\n",
      "recorded 114: arraial do cabo\n",
      "recorded 115: saint george\n",
      "recorded 116: coquimbo\n",
      "recorded 117: dingle\n",
      "recorded 118: abha\n",
      "recorded 119: caravelas\n",
      "recorded 120: tuatapere\n",
      "recorded 121: baniachang\n",
      "recorded 122: talnakh\n",
      "recorded 123: marystown\n",
      "recorded 124: krasnoselkup\n",
      "recorded 125: laela\n",
      "recorded 126: yerofey pavlovich\n",
      "recorded 127: thinadhoo\n",
      "recorded 128: nabire\n",
      "recorded 129: tingi\n",
      "recorded 130: hithadhoo\n",
      "recorded 131: octeville\n",
      "recorded 132: brewster\n",
      "recorded 133: aktas\n",
      "recorded 134: port hawkesbury\n",
      "recorded 135: avera\n",
      "recorded 136: mount isa\n",
      "recorded 137: jales\n",
      "recorded 138: saint-pierre\n",
      "recorded 139: ahuimanu\n",
      "recorded 140: arman\n",
      "recorded 141: sokoni\n",
      "recorded 142: nikolskoye\n",
      "recorded 143: petropavlovsk-kamchatskiy\n",
      "recorded 144: rio grande\n",
      "recorded 145: bilibino\n",
      "recorded 146: general roca\n",
      "recorded 147: lucapa\n",
      "recorded 148: buala\n",
      "recorded 149: jamestown\n",
      "recorded 150: megion\n",
      "recorded 151: hualmay\n",
      "recorded 152: victoria\n",
      "recorded 153: broome\n",
      "tsihombe city not found\n",
      "recorded 154: atuona\n",
      "recorded 155: tura\n",
      "tubruq city not found\n",
      "recorded 156: halifax\n",
      "recorded 157: boyuibe\n",
      "recorded 158: olinda\n",
      "recorded 159: palauig\n",
      "recorded 160: ilulissat\n",
      "recorded 161: coos bay\n",
      "recorded 162: aras\n",
      "recorded 163: nihommatsu\n",
      "recorded 164: pospelikha\n",
      "recorded 165: carutapera\n",
      "recorded 166: college\n",
      "recorded 167: rawson\n",
      "recorded 168: talcahuano\n",
      "recorded 169: souillac\n",
      "recorded 170: bedele\n",
      "recorded 171: poum\n",
      "recorded 172: colomi\n",
      "recorded 173: tazovskiy\n",
      "recorded 174: praia\n",
      "recorded 175: san patricio\n",
      "recorded 176: los llanos de aridane\n",
      "recorded 177: luorong\n",
      "recorded 178: didsbury\n",
      "recorded 179: margate\n",
      "recorded 180: rio gallegos\n",
      "recorded 181: itarantim\n",
      "recorded 182: mastic beach\n",
      "recorded 183: vao\n",
      "recorded 184: traian\n",
      "recorded 185: plettenberg bay\n",
      "recorded 186: tautira\n",
      "recorded 187: tatawin\n",
      "recorded 188: mazamari\n",
      "recorded 189: loubomo\n",
      "recorded 190: conakry\n",
      "recorded 191: chuy\n",
      "recorded 192: castro\n",
      "sentyabrskiy city not found\n",
      "recorded 193: faanui\n",
      "recorded 194: cockburn town\n",
      "recorded 195: turukhansk\n",
      "recorded 196: sao filipe\n",
      "recorded 197: grindavik\n",
      "recorded 198: pisco\n",
      "recorded 199: pevek\n",
      "vaitupu city not found\n",
      "recorded 200: presidencia roque saenz pena\n",
      "recorded 201: yuzhne\n",
      "recorded 202: mar del plata\n",
      "recorded 203: lata\n",
      "recorded 204: goderich\n",
      "recorded 205: dunedin\n",
      "recorded 206: wanning\n",
      "recorded 207: akyab\n",
      "recorded 208: beloha\n",
      "recorded 209: samarai\n",
      "recorded 210: garelochhead\n",
      "recorded 211: hasaki\n",
      "saleaula city not found\n",
      "recorded 212: yellowknife\n",
      "ust-kamchatsk city not found\n",
      "recorded 213: surt\n",
      "recorded 214: bayji\n",
      "recorded 215: kaitong\n",
      "recorded 216: srednekolymsk\n",
      "recorded 217: tiksi\n",
      "recorded 218: flin flon\n",
      "recorded 219: gwadar\n",
      "recorded 220: nur\n",
      "recorded 221: upernavik\n",
      "recorded 222: saint-philippe\n",
      "recorded 223: ejura\n",
      "recorded 224: mareeba\n",
      "recorded 225: zurrieq\n",
      "recorded 226: skjervoy\n",
      "recorded 227: jiayuguan\n",
      "recorded 228: tambacounda\n",
      "recorded 229: port lincoln\n",
      "recorded 230: coroata\n",
      "recorded 231: asau\n",
      "recorded 232: ixtapa\n",
      "recorded 233: zastron\n",
      "recorded 234: olafsvik\n",
      "recorded 235: ketchikan\n",
      "ijaki city not found\n",
      "viligili city not found\n",
      "recorded 236: ornskoldsvik\n",
      "barbar city not found\n",
      "recorded 237: portland\n",
      "recorded 238: slave lake\n",
      "recorded 239: san policarpo\n",
      "recorded 240: dikson\n",
      "recorded 241: bolshaya dzhalga\n",
      "recorded 242: andra\n",
      "recorded 243: kangaatsiaq\n",
      "recorded 244: tessalit\n",
      "recorded 245: nioro\n",
      "recorded 246: ekpoma\n",
      "recorded 247: lufilufi\n",
      "artyk city not found\n",
      "recorded 248: codrington\n",
      "nizhneyansk city not found\n",
      "recorded 249: tynda\n",
      "recorded 250: san quintin\n",
      "recorded 251: kota bahru\n",
      "recorded 252: vila do maio\n",
      "recorded 253: kruisfontein\n",
      "recorded 254: northam\n",
      "recorded 255: camargo\n",
      "recorded 256: atambua\n",
      "recorded 257: pangnirtung\n",
      "recorded 258: kamenka\n",
      "recorded 259: hervey bay\n",
      "recorded 260: novodugino\n",
      "recorded 261: maniwaki\n",
      "mrirt city not found\n",
      "recorded 262: okhotsk\n",
      "recorded 263: mago\n",
      "recorded 264: erzincan\n",
      "recorded 265: sitka\n",
      "recorded 266: nukus\n",
      "recorded 267: praia da vitoria\n",
      "recorded 268: esfarayen\n",
      "recorded 269: bredasdorp\n",
      "jomalig city not found\n",
      "recorded 270: sal rei\n",
      "attawapiskat city not found\n",
      "recorded 271: sliven\n",
      "recorded 272: iralaya\n",
      "recorded 273: guerrero negro\n",
      "recorded 274: soyo\n",
      "recorded 275: mbanza-ngungu\n",
      "recorded 276: richards bay\n",
      "recorded 277: bamnet narong\n",
      "recorded 278: batemans bay\n",
      "recorded 279: hambantota\n",
      "recorded 280: taltal\n",
      "recorded 281: dobrin\n",
      "recorded 282: ambilobe\n",
      "recorded 283: puerto narino\n",
      "recorded 284: nikolayevka\n",
      "recorded 285: katsuura\n",
      "recorded 286: galesong\n",
      "recorded 287: general artigas\n",
      "recorded 288: touros\n",
      "recorded 289: tarsus\n",
      "solsvik city not found\n",
      "recorded 290: tawang\n",
      "recorded 291: apele vii\n",
      "recorded 292: meulaboh\n",
      "recorded 293: isiro\n",
      "recorded 294: paamiut\n",
      "recorded 295: vanavara\n",
      "recorded 296: yavatmal\n",
      "recorded 297: najran\n",
      "recorded 298: ninghai\n",
      "recorded 299: marsa matruh\n",
      "recorded 300: omsk\n",
      "recorded 301: nelson bay\n",
      "recorded 302: palmer\n",
      "recorded 303: shakawe\n",
      "recorded 304: kralendijk\n",
      "recorded 305: nalut\n",
      "recorded 306: bathsheba\n",
      "recorded 307: mandalgovi\n",
      "recorded 308: damaturu\n",
      "recorded 309: saverne\n",
      "recorded 310: poronaysk\n",
      "recorded 311: hami\n",
      "recorded 312: vermillion\n",
      "recorded 313: moussoro\n",
      "recorded 314: vila velha\n",
      "recorded 315: jalu\n",
      "recorded 316: kavaratti\n",
      "recorded 317: jerusalem\n",
      "recorded 318: salalah\n",
      "recorded 319: burhar\n",
      "recorded 320: fenyi\n",
      "recorded 321: westport\n",
      "recorded 322: evensk\n",
      "recorded 323: nikolayevsk-na-amure\n",
      "recorded 324: korem\n"
     ]
    },
    {
     "name": "stdout",
     "output_type": "stream",
     "text": [
      "recorded 325: hobyo\n",
      "recorded 326: naze\n",
      "recorded 327: kudahuvadhoo\n",
      "recorded 328: merauke\n",
      "recorded 329: maraa\n",
      "recorded 330: yarmouth\n",
      "recorded 331: port-cartier\n",
      "recorded 332: fare\n",
      "recorded 333: ipixuna\n",
      "recorded 334: vostok\n",
      "recorded 335: nantucket\n",
      "recorded 336: ojinaga\n",
      "recorded 337: fuyu\n",
      "recorded 338: ballina\n",
      "recorded 339: takoradi\n",
      "recorded 340: bahia honda\n",
      "recorded 341: anadyr\n",
      "recorded 342: haicheng\n",
      "recorded 343: buncrana\n",
      "urdzhar city not found\n",
      "recorded 344: barguzin\n",
      "recorded 345: lazaro cardenas\n",
      "recorded 346: zinacantan\n",
      "recorded 347: sangar\n",
      "recorded 348: zharkent\n",
      "recorded 349: sembe\n",
      "recorded 350: julio de castilhos\n",
      "recorded 351: novaya igirma\n",
      "recorded 352: itupiranga\n",
      "recorded 353: lavrentiya\n",
      "recorded 354: asfi\n",
      "ksenyevka city not found\n",
      "recorded 355: isangel\n",
      "recorded 356: mount gambier\n",
      "recorded 357: alasehir\n",
      "recorded 358: fort nelson\n",
      "recorded 359: darnah\n",
      "recorded 360: kambove\n",
      "recorded 361: labuhan\n",
      "recorded 362: palana\n",
      "recorded 363: koutiala\n",
      "recorded 364: boa vista\n",
      "recorded 365: grand gaube\n",
      "recorded 366: guangyuan\n",
      "recorded 367: bom jesus\n",
      "recorded 368: nampula\n",
      "recorded 369: nhulunbuy\n",
      "recorded 370: omboue\n",
      "recorded 371: orlik\n",
      "recorded 372: te anau\n",
      "recorded 373: ahipara\n",
      "recorded 374: kondinskoye\n",
      "recorded 375: estevan\n",
      "recorded 376: kawalu\n",
      "recorded 377: ust-maya\n",
      "recorded 378: byron bay\n",
      "recorded 379: krasnyy chikoy\n",
      "recorded 380: hovd\n",
      "recorded 381: buraydah\n",
      "recorded 382: cherskiy\n",
      "recorded 383: tres lagoas\n",
      "recorded 384: mushie\n",
      "recorded 385: bailieborough\n",
      "recorded 386: port elizabeth\n",
      "recorded 387: mecca\n",
      "recorded 388: san cristobal\n",
      "recorded 389: xining\n",
      "recorded 390: shubarshi\n",
      "recorded 391: berlevag\n",
      "recorded 392: prainha\n",
      "recorded 393: sola\n",
      "recorded 394: eyl\n",
      "recorded 395: yilan\n",
      "recorded 396: egvekinot\n",
      "recorded 397: diu\n",
      "recorded 398: taoudenni\n",
      "recorded 399: solnechnyy\n",
      "recorded 400: vredendal\n",
      "recorded 401: buchanan\n",
      "recorded 402: abashiri\n",
      "recorded 403: road town\n",
      "recorded 404: airai\n",
      "recorded 405: paranga\n",
      "recorded 406: pandan\n",
      "recorded 407: synya\n",
      "recorded 408: mahebourg\n",
      "recorded 409: moyamba\n",
      "recorded 410: haapiti\n",
      "recorded 411: port said\n",
      "recorded 412: progreso\n",
      "recorded 413: sao joao da barra\n",
      "jiddah city not found\n",
      "recorded 414: sinjai\n",
      "recorded 415: turayf\n",
      "recorded 416: dno\n",
      "recorded 417: krasnoznamensk\n",
      "recorded 418: leningradskiy\n",
      "recorded 419: nador\n",
      "recorded 420: sabang\n",
      "recorded 421: jacareacanga\n",
      "bolshaya chernigovka city not found\n",
      "recorded 422: altay\n",
      "recorded 423: abonnema\n",
      "recorded 424: moengo\n",
      "recorded 425: olenegorsk\n",
      "recorded 426: ugoofaaru\n",
      "recorded 427: wanaka\n",
      "recorded 428: hoi an\n",
      "recorded 429: laguna\n",
      "recorded 430: mossendjo\n",
      "recorded 431: segbwema\n",
      "recorded 432: priboj\n",
      "recorded 433: lovozero\n",
      "recorded 434: nizhnevartovsk\n",
      "recorded 435: kontagora\n",
      "recorded 436: bengkulu\n",
      "recorded 437: high level\n",
      "recorded 438: atarra\n",
      "recorded 439: baft\n",
      "recorded 440: jasper\n",
      "recorded 441: nemuro\n",
      "recorded 442: ljungby\n",
      "kuche city not found\n",
      "recorded 443: pontianak\n",
      "recorded 444: pundaguitan\n",
      "recorded 445: huejuquilla el alto\n",
      "recorded 446: ngunguru\n",
      "recorded 447: bara\n",
      "recorded 448: klaksvik\n",
      "recorded 449: alofi\n",
      "recorded 450: sayyan\n",
      "recorded 451: nova kakhovka\n",
      "recorded 452: andilamena\n",
      "recorded 453: haines junction\n",
      "recorded 454: strezhevoy\n",
      "recorded 455: udachnyy\n",
      "halalo city not found\n",
      "recorded 456: magadan\n",
      "recorded 457: moshenskoye\n",
      "kamenskoye city not found\n",
      "recorded 458: puerto escondido\n",
      "recorded 459: khandyga\n",
      "recorded 460: launceston\n",
      "recorded 461: gueugnon\n",
      "recorded 462: kenai\n",
      "recorded 463: buriti alegre\n",
      "recorded 464: hay river\n",
      "recorded 465: coihaique\n",
      "recorded 466: ponta delgada\n",
      "recorded 467: briancon\n",
      "recorded 468: sydney\n",
      "recorded 469: guanica\n",
      "nabul city not found\n",
      "recorded 470: luena\n",
      "recorded 471: miramar\n",
      "recorded 472: aykhal\n",
      "recorded 473: ashland\n",
      "recorded 474: terrace\n",
      "recorded 475: maniitsoq\n",
      "recorded 476: baherden\n",
      "recorded 477: port hedland\n",
      "recorded 478: vieste\n",
      "recorded 479: banda aceh\n",
      "recorded 480: oga\n",
      "recorded 481: cave spring\n",
      "recorded 482: keti bandar\n",
      "recorded 483: ereymentau\n",
      "recorded 484: vaitape\n",
      "recorded 485: vestmanna\n",
      "recorded 486: north platte\n",
      "recorded 487: vestmannaeyjar\n",
      "palabuhanratu city not found\n",
      "recorded 488: ludvika\n",
      "recorded 489: erdaojiang\n",
      "recorded 490: arucas\n",
      "recorded 491: emerald\n",
      "recorded 492: balikpapan\n",
      "recorded 493: necochea\n",
      "recorded 494: sept-iles\n",
      "recorded 495: tonantins\n",
      "recorded 496: angoche\n",
      "recorded 497: luwuk\n",
      "recorded 498: khandbari\n",
      "recorded 499: kaseda\n",
      "recorded 500: odda\n",
      "recorded 501: quelimane\n",
      "recorded 502: broken hill\n",
      "recorded 503: riberalta\n",
      "recorded 504: elektrogorsk\n",
      "recorded 505: litovko\n",
      "louisbourg city not found\n",
      "recorded 506: juegang\n",
      "recorded 507: delta del tigre\n",
      "recorded 508: metro\n",
      "recorded 509: sakakah\n",
      "recorded 510: wynyard\n",
      "rungata city not found\n",
      "recorded 511: aginskoye\n",
      "denau city not found\n",
      "recorded 512: houston\n",
      "warqla city not found\n",
      "recorded 513: mpophomeni\n",
      "recorded 514: soe\n",
      "recorded 515: xinqing\n",
      "recorded 516: awbari\n",
      "recorded 517: cidreira\n",
      "recorded 518: vila\n",
      "recorded 519: belaya gora\n",
      "recorded 520: new ulm\n",
      "recorded 521: coxim\n",
      "recorded 522: chokurdakh\n",
      "recorded 523: sri aman\n",
      "recorded 524: aswan\n",
      "recorded 525: ureshino\n",
      "recorded 526: zhuanghe\n",
      "recorded 527: mnogovershinnyy\n",
      "recorded 528: balabac\n",
      "recorded 529: ares\n",
      "recorded 530: wenling\n",
      "recorded 531: uinskoye\n",
      "recorded 532: hede\n",
      "recorded 533: baghdad\n",
      "recorded 534: akcakoca\n",
      "recorded 535: zhuhai\n",
      "recorded 536: aklavik\n",
      "recorded 537: karratha\n",
      "recorded 538: dunda\n",
      "recorded 539: seabra\n",
      "recorded 540: dalby\n",
      "recorded 541: sibolga\n",
      "recorded 542: orbetello\n",
      "recorded 543: aranos\n",
      "recorded 544: tanout\n",
      "recorded 545: calderitas\n",
      "recorded 546: berdigestyakh\n",
      "recorded 547: ibirapitanga\n",
      "recorded 548: padang\n",
      "recorded 549: san juan\n",
      "bababe city not found\n",
      "recorded 550: bandar-e lengeh\n",
      "mirina city not found\n",
      "recorded 551: koszalin\n",
      "palaiokhora city not found\n",
      "recorded 552: kieta\n",
      "recorded 553: sambava\n",
      "recorded 554: mbarara\n",
      "recorded 555: qurayyat\n",
      "recorded 556: yantal\n",
      "recorded 557: namibe\n",
      "recorded 558: worthington\n",
      "recorded 559: bayburt\n",
      "recorded 560: timra\n",
      "recorded 561: hofn\n",
      "recorded 562: jumla\n",
      "recorded 563: muravlenko\n",
      "recorded 564: chunskiy\n",
      "recorded 565: kasongo-lunda\n",
      "recorded 566: sao miguel do guama\n",
      "recorded 567: magoula\n",
      "recorded 568: landau\n",
      "recorded 569: tevaitoa\n",
      "recorded 570: ha tinh\n",
      "recorded 571: lasa\n",
      "recorded 572: ossora\n",
      "recorded 573: narasannapeta\n",
      "recorded 574: hauterive\n",
      "ondorhaan city not found\n",
      "recorded 575: banepa\n"
     ]
    }
   ],
   "source": [
    "\n",
    "#cities_test = [\"Paris\", \"London\", \"Gretel\", \"Beijing\"]\n",
    "lat = []\n",
    "lng = []\n",
    "temp = []\n",
    "max_temp = []\n",
    "humidity = []\n",
    "cloudiness = []\n",
    "wind_speed = []\n",
    "country = []\n",
    "date = []\n",
    "name = []\n",
    "i = 0\n",
    "\n",
    "#Loop through the list of cities and perform a request for data on each\n",
    "for city in cities:\n",
    "    response = requests.get(query_url + city).json()\n",
    "    if i % 50 == 0:\n",
    "        time.sleep(5)\n",
    "\n",
    "    try: \n",
    "        lat.append(response['coord']['lat'])\n",
    "        lng.append(response['coord']['lon'])\n",
    "        temp.append(response['main']['temp'])\n",
    "        max_temp.append(response['main']['temp_max'])\n",
    "        humidity.append(response['main']['humidity'])\n",
    "        cloudiness.append(response['clouds']['all'])\n",
    "        wind_speed.append(response['wind']['speed'])\n",
    "        country.append(response['sys']['country'])\n",
    "        date.append(response['dt'])\n",
    "        name.append(response['name'])\n",
    "        i = i + 1\n",
    "        print(f\"recorded {i}: {city}\")\n",
    "        \n",
    "    except KeyError: \n",
    "        print(f\"{city} city not found\")\n",
    "\n",
    "\n",
    "#print(response)\n",
    "\n",
    "#print(f\"The latitude is: {lat}\")\n",
    "#print(f\"The lon is: {lng}\") \n",
    "#print(f\"The temp is: {temp}\") \n",
    "#print(f\"The max temp is: {max_temp}\")\n",
    "#print(f\"The humidity is: {humidity}\")\n",
    "#print(f\"The cloudiness is: {cloudiness}\")\n",
    "#print(f\"The wind speed is: {wind_speed}\")\n",
    "#print(f\"The country is: {country}\")\n",
    "#print(f\"The date is: {date}\")"
   ]
  },
  {
   "cell_type": "markdown",
   "metadata": {},
   "source": [
    "#used test city data and for loop to run through data and record city info. "
   ]
  },
  {
   "cell_type": "code",
   "execution_count": 35,
   "metadata": {},
   "outputs": [
    {
     "name": "stdout",
     "output_type": "stream",
     "text": [
      "2020-10-17 02:02:18\n"
     ]
    }
   ],
   "source": [
    "#figure out ways to convert time stamp to date\n",
    "d = datetime.utcfromtimestamp(1602900138)\n",
    "\n",
    "print(d)"
   ]
  },
  {
   "cell_type": "markdown",
   "metadata": {},
   "source": [
    "## Convert Raw Data to DataFrame\n",
    "* Save as csv"
   ]
  },
  {
   "cell_type": "code",
   "execution_count": 36,
   "metadata": {
    "scrolled": false
   },
   "outputs": [
    {
     "data": {
      "text/html": [
       "<div>\n",
       "<style scoped>\n",
       "    .dataframe tbody tr th:only-of-type {\n",
       "        vertical-align: middle;\n",
       "    }\n",
       "\n",
       "    .dataframe tbody tr th {\n",
       "        vertical-align: top;\n",
       "    }\n",
       "\n",
       "    .dataframe thead th {\n",
       "        text-align: right;\n",
       "    }\n",
       "</style>\n",
       "<table border=\"1\" class=\"dataframe\">\n",
       "  <thead>\n",
       "    <tr style=\"text-align: right;\">\n",
       "      <th></th>\n",
       "      <th>City</th>\n",
       "      <th>Latitude</th>\n",
       "      <th>Longitude</th>\n",
       "      <th>Max Temp</th>\n",
       "      <th>Humidity</th>\n",
       "      <th>Cloudiness</th>\n",
       "      <th>Wind Speed</th>\n",
       "      <th>Country</th>\n",
       "      <th>Date</th>\n",
       "    </tr>\n",
       "  </thead>\n",
       "  <tbody>\n",
       "    <tr>\n",
       "      <th>0</th>\n",
       "      <td>Longyearbyen</td>\n",
       "      <td>78.22</td>\n",
       "      <td>15.64</td>\n",
       "      <td>19.40</td>\n",
       "      <td>79</td>\n",
       "      <td>20</td>\n",
       "      <td>8.05</td>\n",
       "      <td>SJ</td>\n",
       "      <td>1602971102</td>\n",
       "    </tr>\n",
       "    <tr>\n",
       "      <th>1</th>\n",
       "      <td>Itarema</td>\n",
       "      <td>-2.92</td>\n",
       "      <td>-39.92</td>\n",
       "      <td>79.39</td>\n",
       "      <td>78</td>\n",
       "      <td>81</td>\n",
       "      <td>15.48</td>\n",
       "      <td>BR</td>\n",
       "      <td>1602971121</td>\n",
       "    </tr>\n",
       "    <tr>\n",
       "      <th>2</th>\n",
       "      <td>New Norfolk</td>\n",
       "      <td>-42.78</td>\n",
       "      <td>147.06</td>\n",
       "      <td>46.99</td>\n",
       "      <td>91</td>\n",
       "      <td>55</td>\n",
       "      <td>1.01</td>\n",
       "      <td>AU</td>\n",
       "      <td>1602971121</td>\n",
       "    </tr>\n",
       "    <tr>\n",
       "      <th>3</th>\n",
       "      <td>Rikitea</td>\n",
       "      <td>-23.12</td>\n",
       "      <td>-134.97</td>\n",
       "      <td>74.21</td>\n",
       "      <td>80</td>\n",
       "      <td>100</td>\n",
       "      <td>20.98</td>\n",
       "      <td>PF</td>\n",
       "      <td>1602971121</td>\n",
       "    </tr>\n",
       "    <tr>\n",
       "      <th>4</th>\n",
       "      <td>Barrow</td>\n",
       "      <td>71.29</td>\n",
       "      <td>-156.79</td>\n",
       "      <td>17.60</td>\n",
       "      <td>78</td>\n",
       "      <td>1</td>\n",
       "      <td>12.75</td>\n",
       "      <td>US</td>\n",
       "      <td>1602970832</td>\n",
       "    </tr>\n",
       "  </tbody>\n",
       "</table>\n",
       "</div>"
      ],
      "text/plain": [
       "           City  Latitude  Longitude  Max Temp  Humidity  Cloudiness  \\\n",
       "0  Longyearbyen     78.22      15.64     19.40        79          20   \n",
       "1       Itarema     -2.92     -39.92     79.39        78          81   \n",
       "2   New Norfolk    -42.78     147.06     46.99        91          55   \n",
       "3       Rikitea    -23.12    -134.97     74.21        80         100   \n",
       "4        Barrow     71.29    -156.79     17.60        78           1   \n",
       "\n",
       "   Wind Speed Country        Date  \n",
       "0        8.05      SJ  1602971102  \n",
       "1       15.48      BR  1602971121  \n",
       "2        1.01      AU  1602971121  \n",
       "3       20.98      PF  1602971121  \n",
       "4       12.75      US  1602970832  "
      ]
     },
     "execution_count": 36,
     "metadata": {},
     "output_type": "execute_result"
    }
   ],
   "source": [
    "#create dataframe with all weather data. save to csv to work on for rest of project\n",
    "weather_data_df = pd.DataFrame({\"City\": name, \"Latitude\": lat, \"Longitude\": lng, \"Max Temp\": max_temp, \"Humidity\": humidity, \"Cloudiness\": cloudiness, \"Wind Speed\": wind_speed, \"Country\": country, \"Date\": date})\n",
    "\n",
    "\n",
    "weather_data_df.to_csv(output_data_file, index=False)\n",
    "weather_data_df.head()"
   ]
  },
  {
   "cell_type": "code",
   "execution_count": 77,
   "metadata": {},
   "outputs": [
    {
     "data": {
      "text/html": [
       "<div>\n",
       "<style scoped>\n",
       "    .dataframe tbody tr th:only-of-type {\n",
       "        vertical-align: middle;\n",
       "    }\n",
       "\n",
       "    .dataframe tbody tr th {\n",
       "        vertical-align: top;\n",
       "    }\n",
       "\n",
       "    .dataframe thead th {\n",
       "        text-align: right;\n",
       "    }\n",
       "</style>\n",
       "<table border=\"1\" class=\"dataframe\">\n",
       "  <thead>\n",
       "    <tr style=\"text-align: right;\">\n",
       "      <th></th>\n",
       "      <th>City</th>\n",
       "      <th>Latitude</th>\n",
       "      <th>Longitude</th>\n",
       "      <th>Max Temp</th>\n",
       "      <th>Humidity</th>\n",
       "      <th>Cloudiness</th>\n",
       "      <th>Wind Speed</th>\n",
       "      <th>Country</th>\n",
       "      <th>Date</th>\n",
       "    </tr>\n",
       "  </thead>\n",
       "  <tbody>\n",
       "    <tr>\n",
       "      <th>0</th>\n",
       "      <td>Longyearbyen</td>\n",
       "      <td>78.22</td>\n",
       "      <td>15.64</td>\n",
       "      <td>19.40</td>\n",
       "      <td>79</td>\n",
       "      <td>20</td>\n",
       "      <td>8.05</td>\n",
       "      <td>SJ</td>\n",
       "      <td>1602971102</td>\n",
       "    </tr>\n",
       "    <tr>\n",
       "      <th>1</th>\n",
       "      <td>Itarema</td>\n",
       "      <td>-2.92</td>\n",
       "      <td>-39.92</td>\n",
       "      <td>79.39</td>\n",
       "      <td>78</td>\n",
       "      <td>81</td>\n",
       "      <td>15.48</td>\n",
       "      <td>BR</td>\n",
       "      <td>1602971121</td>\n",
       "    </tr>\n",
       "    <tr>\n",
       "      <th>2</th>\n",
       "      <td>New Norfolk</td>\n",
       "      <td>-42.78</td>\n",
       "      <td>147.06</td>\n",
       "      <td>46.99</td>\n",
       "      <td>91</td>\n",
       "      <td>55</td>\n",
       "      <td>1.01</td>\n",
       "      <td>AU</td>\n",
       "      <td>1602971121</td>\n",
       "    </tr>\n",
       "    <tr>\n",
       "      <th>3</th>\n",
       "      <td>Rikitea</td>\n",
       "      <td>-23.12</td>\n",
       "      <td>-134.97</td>\n",
       "      <td>74.21</td>\n",
       "      <td>80</td>\n",
       "      <td>100</td>\n",
       "      <td>20.98</td>\n",
       "      <td>PF</td>\n",
       "      <td>1602971121</td>\n",
       "    </tr>\n",
       "    <tr>\n",
       "      <th>4</th>\n",
       "      <td>Barrow</td>\n",
       "      <td>71.29</td>\n",
       "      <td>-156.79</td>\n",
       "      <td>17.60</td>\n",
       "      <td>78</td>\n",
       "      <td>1</td>\n",
       "      <td>12.75</td>\n",
       "      <td>US</td>\n",
       "      <td>1602970832</td>\n",
       "    </tr>\n",
       "  </tbody>\n",
       "</table>\n",
       "</div>"
      ],
      "text/plain": [
       "           City  Latitude  Longitude  Max Temp  Humidity  Cloudiness  \\\n",
       "0  Longyearbyen     78.22      15.64     19.40        79          20   \n",
       "1       Itarema     -2.92     -39.92     79.39        78          81   \n",
       "2   New Norfolk    -42.78     147.06     46.99        91          55   \n",
       "3       Rikitea    -23.12    -134.97     74.21        80         100   \n",
       "4        Barrow     71.29    -156.79     17.60        78           1   \n",
       "\n",
       "   Wind Speed Country        Date  \n",
       "0        8.05      SJ  1602971102  \n",
       "1       15.48      BR  1602971121  \n",
       "2        1.01      AU  1602971121  \n",
       "3       20.98      PF  1602971121  \n",
       "4       12.75      US  1602970832  "
      ]
     },
     "execution_count": 77,
     "metadata": {},
     "output_type": "execute_result"
    }
   ],
   "source": [
    "#re-add date as CSV file \n",
    "file = \"../output_data/cities.csv\"\n",
    "\n",
    "\n",
    "cities_df = pd.read_csv(file)\n",
    "cities_df.head()\n",
    "\n",
    "\n"
   ]
  },
  {
   "cell_type": "code",
   "execution_count": 70,
   "metadata": {},
   "outputs": [
    {
     "name": "stdout",
     "output_type": "stream",
     "text": [
      "2020-10-17 02:02:18\n"
     ]
    },
    {
     "data": {
      "text/html": [
       "<div>\n",
       "<style scoped>\n",
       "    .dataframe tbody tr th:only-of-type {\n",
       "        vertical-align: middle;\n",
       "    }\n",
       "\n",
       "    .dataframe tbody tr th {\n",
       "        vertical-align: top;\n",
       "    }\n",
       "\n",
       "    .dataframe thead th {\n",
       "        text-align: right;\n",
       "    }\n",
       "</style>\n",
       "<table border=\"1\" class=\"dataframe\">\n",
       "  <thead>\n",
       "    <tr style=\"text-align: right;\">\n",
       "      <th></th>\n",
       "      <th>City</th>\n",
       "      <th>Latitude</th>\n",
       "      <th>Longitude</th>\n",
       "      <th>Max Temp</th>\n",
       "      <th>Humidity</th>\n",
       "      <th>Cloudiness</th>\n",
       "      <th>Wind Speed</th>\n",
       "      <th>Country</th>\n",
       "      <th>Date</th>\n",
       "    </tr>\n",
       "  </thead>\n",
       "  <tbody>\n",
       "    <tr>\n",
       "      <th>0</th>\n",
       "      <td>Longyearbyen</td>\n",
       "      <td>78.22</td>\n",
       "      <td>15.64</td>\n",
       "      <td>19.40</td>\n",
       "      <td>79</td>\n",
       "      <td>20</td>\n",
       "      <td>8.05</td>\n",
       "      <td>SJ</td>\n",
       "      <td>2020-10-17 21:45:02</td>\n",
       "    </tr>\n",
       "    <tr>\n",
       "      <th>1</th>\n",
       "      <td>Itarema</td>\n",
       "      <td>-2.92</td>\n",
       "      <td>-39.92</td>\n",
       "      <td>79.39</td>\n",
       "      <td>78</td>\n",
       "      <td>81</td>\n",
       "      <td>15.48</td>\n",
       "      <td>BR</td>\n",
       "      <td>2020-10-17 21:45:21</td>\n",
       "    </tr>\n",
       "    <tr>\n",
       "      <th>2</th>\n",
       "      <td>New Norfolk</td>\n",
       "      <td>-42.78</td>\n",
       "      <td>147.06</td>\n",
       "      <td>46.99</td>\n",
       "      <td>91</td>\n",
       "      <td>55</td>\n",
       "      <td>1.01</td>\n",
       "      <td>AU</td>\n",
       "      <td>2020-10-17 21:45:21</td>\n",
       "    </tr>\n",
       "    <tr>\n",
       "      <th>3</th>\n",
       "      <td>Rikitea</td>\n",
       "      <td>-23.12</td>\n",
       "      <td>-134.97</td>\n",
       "      <td>74.21</td>\n",
       "      <td>80</td>\n",
       "      <td>100</td>\n",
       "      <td>20.98</td>\n",
       "      <td>PF</td>\n",
       "      <td>2020-10-17 21:45:21</td>\n",
       "    </tr>\n",
       "    <tr>\n",
       "      <th>4</th>\n",
       "      <td>Barrow</td>\n",
       "      <td>71.29</td>\n",
       "      <td>-156.79</td>\n",
       "      <td>17.60</td>\n",
       "      <td>78</td>\n",
       "      <td>1</td>\n",
       "      <td>12.75</td>\n",
       "      <td>US</td>\n",
       "      <td>2020-10-17 21:40:32</td>\n",
       "    </tr>\n",
       "  </tbody>\n",
       "</table>\n",
       "</div>"
      ],
      "text/plain": [
       "           City  Latitude  Longitude  Max Temp  Humidity  Cloudiness  \\\n",
       "0  Longyearbyen     78.22      15.64     19.40        79          20   \n",
       "1       Itarema     -2.92     -39.92     79.39        78          81   \n",
       "2   New Norfolk    -42.78     147.06     46.99        91          55   \n",
       "3       Rikitea    -23.12    -134.97     74.21        80         100   \n",
       "4        Barrow     71.29    -156.79     17.60        78           1   \n",
       "\n",
       "   Wind Speed Country                Date  \n",
       "0        8.05      SJ 2020-10-17 21:45:02  \n",
       "1       15.48      BR 2020-10-17 21:45:21  \n",
       "2        1.01      AU 2020-10-17 21:45:21  \n",
       "3       20.98      PF 2020-10-17 21:45:21  \n",
       "4       12.75      US 2020-10-17 21:40:32  "
      ]
     },
     "execution_count": 70,
     "metadata": {},
     "output_type": "execute_result"
    }
   ],
   "source": [
    "#Date Convert!\n",
    "from datetime import datetime\n",
    "\n",
    "#d = datetime.utcfromtimestamp(1602900138)\n",
    "#print(d)\n",
    "\n",
    "cities_df['Date'] = pd.to_datetime(cities_df['Date'],unit='s')\n",
    "cities_df.head()"
   ]
  },
  {
   "cell_type": "markdown",
   "metadata": {},
   "source": [
    "## Plotting the Data\n",
    "* Use proper labeling of the plots using plot titles (including date of analysis) and axes labels.\n",
    "* Save the plotted figures as .pngs."
   ]
  },
  {
   "cell_type": "markdown",
   "metadata": {},
   "source": [
    "### Latitude vs. Temperature Plot"
   ]
  },
  {
   "cell_type": "code",
   "execution_count": 78,
   "metadata": {
    "scrolled": true
   },
   "outputs": [
    {
     "data": {
      "image/png": "[encoded data removed]",
      "text/plain": [
       "<Figure size 432x288 with 1 Axes>"
      ]
     },
     "metadata": {
      "needs_background": "light"
     },
     "output_type": "display_data"
    }
   ],
   "source": [
    "plt.scatter(cities_df[\"Latitude\"],cities_df[\"Max Temp\"])\n",
    "plt.xlabel('Latitude')\n",
    "plt.ylabel('Max Temperature (F)')\n",
    "plt.title(\"City Latitude vs. Temperature (F) 10/17/2020\")\n",
    "plt.grid()\n",
    "\n",
    "plt.savefig('../output_data/lat_temp.png')\n",
    "plt.show()\n"
   ]
  },
  {
   "cell_type": "markdown",
   "metadata": {},
   "source": [
    "City Latitude vs. Temperature (F) 10/17/2020 - used pyplot to make scatter plit. Temp is lower the farther from eqauter. "
   ]
  },
  {
   "cell_type": "markdown",
   "metadata": {},
   "source": [
    "### Latitude vs. Humidity Plot"
   ]
  },
  {
   "cell_type": "code",
   "execution_count": 79,
   "metadata": {},
   "outputs": [
    {
     "data": {
      "image/png": "[encoded data removed]",
      "text/plain": [
       "<Figure size 432x288 with 1 Axes>"
      ]
     },
     "metadata": {
      "needs_background": "light"
     },
     "output_type": "display_data"
    }
   ],
   "source": [
    "plt.scatter(cities_df[\"Latitude\"],cities_df[\"Humidity\"])\n",
    "plt.xlabel('Latitude')\n",
    "plt.ylabel('Humidity (%)')\n",
    "plt.title(\"City Latitude vs. Humidity 10/17/2020\")\n",
    "plt.grid()\n",
    "\n",
    "plt.savefig('../output_data/humidity.png')\n",
    "plt.show()\n"
   ]
  },
  {
   "cell_type": "markdown",
   "metadata": {},
   "source": [
    "### Latitude vs. Cloudiness Plot"
   ]
  },
  {
   "cell_type": "code",
   "execution_count": 80,
   "metadata": {},
   "outputs": [
    {
     "data": {
      "image/png": "[encoded data removed]",
      "text/plain": [
       "<Figure size 432x288 with 1 Axes>"
      ]
     },
     "metadata": {
      "needs_background": "light"
     },
     "output_type": "display_data"
    }
   ],
   "source": [
    "plt.scatter(cities_df[\"Latitude\"],cities_df[\"Cloudiness\"])\n",
    "plt.xlabel('Latitude')\n",
    "plt.ylabel('Cloudiness (%)')\n",
    "plt.title(\"City Latitude vs. Cloudiness 10/17/2020\")\n",
    "plt.grid()\n",
    "\n",
    "plt.savefig('../output_data/cloudiness.png')\n",
    "plt.show()\n"
   ]
  },
  {
   "cell_type": "markdown",
   "metadata": {},
   "source": [
    "### Latitude vs. Wind Speed Plot"
   ]
  },
  {
   "cell_type": "code",
   "execution_count": 81,
   "metadata": {},
   "outputs": [
    {
     "data": {
      "image/png": "[encoded data removed]",
      "text/plain": [
       "<Figure size 432x288 with 1 Axes>"
      ]
     },
     "metadata": {
      "needs_background": "light"
     },
     "output_type": "display_data"
    }
   ],
   "source": [
    "plt.scatter(cities_df[\"Latitude\"],cities_df[\"Wind Speed\"])\n",
    "plt.xlabel('Latitude')\n",
    "plt.ylabel('Wind Speed (mph)')\n",
    "plt.title(\"City Latitude vs. Wind Speed 10/17/2020\")\n",
    "plt.grid()\n",
    "\n",
    "plt.savefig('../output_data/wind_speed.png')\n",
    "plt.show()\n"
   ]
  },
  {
   "cell_type": "markdown",
   "metadata": {},
   "source": [
    "## Linear Regression"
   ]
  },
  {
   "cell_type": "markdown",
   "metadata": {},
   "source": [
    "### Write linear regression plot function (optional)"
   ]
  },
  {
   "cell_type": "code",
   "execution_count": 43,
   "metadata": {},
   "outputs": [],
   "source": [
    "# #x_values = (cities_df[])\n",
    "# #y_values = (cities_df[])\n",
    "\n",
    "# (slope, intercept, rvalue, pvalue, stderr) = linregress(x_values, y_values)\n",
    "# regress_values = x_values * slope + intercept\n",
    "# line_eq = \"y = \" + str(round(slope,2)) + \"x + \" + str(round(intercept,2))\n",
    "# plt.scatter(x_values,y_values)\n",
    "# plt.plot(x_values,regress_values,\"r-\")\n",
    "# # plt.annotate(line_eq,(20,36),fontsize=15,color=\"red\")\n",
    "# # plt.xlabel(\"\")\n",
    "# # plt.ylabel(\"\")\n",
    "# # plt.title(\"\")\n",
    "\n",
    "# plt.show()"
   ]
  },
  {
   "cell_type": "markdown",
   "metadata": {},
   "source": [
    "###  Northern Hemisphere - Max Temp vs. Latitude Linear Regression"
   ]
  },
  {
   "cell_type": "code",
   "execution_count": 82,
   "metadata": {},
   "outputs": [
    {
     "name": "stdout",
     "output_type": "stream",
     "text": [
      "The r value is: -0.8791951481717225\n"
     ]
    },
    {
     "data": {
      "image/png": "[encoded data removed]",
      "text/plain": [
       "<Figure size 432x288 with 1 Axes>"
      ]
     },
     "metadata": {
      "needs_background": "light"
     },
     "output_type": "display_data"
    }
   ],
   "source": [
    "north_lat = cities_df.loc[(cities_df['Latitude'] > 0)]\n",
    "#north_lat.head()\n",
    "\n",
    "\n",
    "x_values = (north_lat[\"Latitude\"])\n",
    "y_values = (north_lat[\"Max Temp\"])\n",
    "\n",
    "(slope, intercept, rvalue, pvalue, stderr) = linregress(x_values, y_values)\n",
    "regress_values = x_values * slope + intercept\n",
    "line_eq = \"y = \" + str(round(slope,2)) + \"x + \" + str(round(intercept,2))\n",
    "plt.scatter(x_values,y_values)\n",
    "plt.plot(x_values,regress_values,\"r-\")\n",
    "\n",
    "plt.annotate(line_eq,(5,5),fontsize=15,color=\"red\")\n",
    "plt.xlabel(\"Latitude\")\n",
    "plt.ylabel(\"Max Temperature (F)\")\n",
    "plt.title(\"Northern Hemisphere - Max Temp (F) vs. Latitude 10/17/2020\")\n",
    "\n",
    "plt.grid()\n",
    "plt.savefig('../output_data/north_lat_temp.png')\n",
    "print(f\"The r value is: {rvalue}\")\n",
    "plt.show()\n",
    "\n"
   ]
  },
  {
   "cell_type": "markdown",
   "metadata": {},
   "source": [
    "###  Southern Hemisphere - Max Temp vs. Latitude Linear Regression"
   ]
  },
  {
   "cell_type": "code",
   "execution_count": 83,
   "metadata": {},
   "outputs": [
    {
     "name": "stdout",
     "output_type": "stream",
     "text": [
      "The r value is: 0.697626479257061\n"
     ]
    },
    {
     "data": {
      "image/png": "[encoded data removed]",
      "text/plain": [
       "<Figure size 432x288 with 1 Axes>"
      ]
     },
     "metadata": {
      "needs_background": "light"
     },
     "output_type": "display_data"
    }
   ],
   "source": [
    "south_lat = cities_df.loc[(cities_df['Latitude'] < 0)]\n",
    "#south_lat.head()\n",
    "\n",
    "\n",
    "x_values = (south_lat[\"Latitude\"])\n",
    "y_values = (south_lat[\"Max Temp\"])\n",
    "\n",
    "(slope, intercept, rvalue, pvalue, stderr) = linregress(x_values, y_values)\n",
    "regress_values = x_values * slope + intercept\n",
    "line_eq = \"y = \" + str(round(slope,2)) + \"x + \" + str(round(intercept,2))\n",
    "plt.scatter(x_values,y_values)\n",
    "plt.plot(x_values,regress_values,\"r-\")\n",
    "\n",
    "plt.annotate(line_eq,(-55,91),fontsize=15,color=\"red\")\n",
    "plt.xlabel(\"Latitude\")\n",
    "plt.ylabel(\"Max Temperature (F)\")\n",
    "plt.title(\"Southern Hemisphere - Max Temp (F) vs. Latitude 10/17/2020\")\n",
    "\n",
    "plt.grid()\n",
    "plt.savefig('../output_data/south_lat_temp.png')\n",
    "print(f\"The r value is: {rvalue}\")\n",
    "plt.show()\n",
    "\n"
   ]
  },
  {
   "cell_type": "markdown",
   "metadata": {},
   "source": [
    "###  Northern Hemisphere - Humidity (%) vs. Latitude Linear Regression"
   ]
  },
  {
   "cell_type": "code",
   "execution_count": 84,
   "metadata": {},
   "outputs": [
    {
     "name": "stdout",
     "output_type": "stream",
     "text": [
      "The r value is: 0.22103883809665867\n"
     ]
    },
    {
     "data": {
      "image/png": "[encoded data removed]",
      "text/plain": [
       "<Figure size 432x288 with 1 Axes>"
      ]
     },
     "metadata": {
      "needs_background": "light"
     },
     "output_type": "display_data"
    }
   ],
   "source": [
    "x_values = (north_lat[\"Latitude\"])\n",
    "y_values = (north_lat[\"Humidity\"])\n",
    "\n",
    "(slope, intercept, rvalue, pvalue, stderr) = linregress(x_values, y_values)\n",
    "regress_values = x_values * slope + intercept\n",
    "line_eq = \"y = \" + str(round(slope,2)) + \"x + \" + str(round(intercept,2))\n",
    "plt.scatter(x_values,y_values)\n",
    "plt.plot(x_values,regress_values,\"r-\")\n",
    "\n",
    "plt.annotate(line_eq,(45,21),fontsize=15,color=\"red\")\n",
    "plt.xlabel(\"Latitude\")\n",
    "plt.ylabel(\"Humidity (%)\")\n",
    "plt.title(\"Northern Hemisphere - Humidity (%) vs. Latitude 10/17/2020\")\n",
    "\n",
    "plt.grid()\n",
    "plt.savefig('../output_data/north_humidity.png')\n",
    "print(f\"The r value is: {rvalue}\")\n",
    "plt.show()\n",
    "\n"
   ]
  },
  {
   "cell_type": "markdown",
   "metadata": {},
   "source": [
    "###  Southern Hemisphere - Humidity (%) vs. Latitude Linear Regression"
   ]
  },
  {
   "cell_type": "code",
   "execution_count": 85,
   "metadata": {},
   "outputs": [
    {
     "name": "stdout",
     "output_type": "stream",
     "text": [
      "The r value is: 0.10558899486755254\n"
     ]
    },
    {
     "data": {
      "image/png": "[encoded data removed]",
      "text/plain": [
       "<Figure size 432x288 with 1 Axes>"
      ]
     },
     "metadata": {
      "needs_background": "light"
     },
     "output_type": "display_data"
    }
   ],
   "source": [
    "x_values = (south_lat[\"Latitude\"])\n",
    "y_values = (south_lat[\"Humidity\"])\n",
    "\n",
    "(slope, intercept, rvalue, pvalue, stderr) = linregress(x_values, y_values)\n",
    "regress_values = x_values * slope + intercept\n",
    "line_eq = \"y = \" + str(round(slope,2)) + \"x + \" + str(round(intercept,2))\n",
    "plt.scatter(x_values,y_values)\n",
    "plt.plot(x_values,regress_values,\"r-\")\n",
    "\n",
    "plt.annotate(line_eq,(-55,21),fontsize=15,color=\"red\")\n",
    "plt.xlabel(\"Latitude\")\n",
    "plt.ylabel(\"Humidity (%)\")\n",
    "plt.title(\"Southern Hemisphere - Humidity (%) vs. Latitude 10/17/2020\")\n",
    "\n",
    "plt.grid()\n",
    "plt.savefig('../output_data/south_humidity.png')\n",
    "print(f\"The r value is: {rvalue}\")\n",
    "plt.show()\n",
    "\n"
   ]
  },
  {
   "cell_type": "markdown",
   "metadata": {},
   "source": [
    "###  Northern Hemisphere - Cloudiness (%) vs. Latitude Linear Regression"
   ]
  },
  {
   "cell_type": "code",
   "execution_count": 86,
   "metadata": {},
   "outputs": [
    {
     "name": "stdout",
     "output_type": "stream",
     "text": [
      "The r value is: 0.15773944204316104\n"
     ]
    },
    {
     "data": {
      "image/png": "[encoded data removed]",
      "text/plain": [
       "<Figure size 432x288 with 1 Axes>"
      ]
     },
     "metadata": {
      "needs_background": "light"
     },
     "output_type": "display_data"
    }
   ],
   "source": [
    "x_values = (north_lat[\"Latitude\"])\n",
    "y_values = (north_lat[\"Cloudiness\"])\n",
    "\n",
    "(slope, intercept, rvalue, pvalue, stderr) = linregress(x_values, y_values)\n",
    "regress_values = x_values * slope + intercept\n",
    "line_eq = \"y = \" + str(round(slope,2)) + \"x + \" + str(round(intercept,2))\n",
    "plt.scatter(x_values,y_values)\n",
    "plt.plot(x_values,regress_values,\"r-\")\n",
    "\n",
    "plt.annotate(line_eq,(24,7),fontsize=15,color=\"red\")\n",
    "plt.xlabel(\"Latitude\")\n",
    "plt.ylabel(\"Cloudiness (%)\")\n",
    "plt.title(\"Northern Hemisphere - Cloudiness (%) vs. Latitude 10/17/2020\")\n",
    "\n",
    "plt.grid()\n",
    "plt.savefig('../output_data/north_cloudiness.png')\n",
    "print(f\"The r value is: {rvalue}\")\n",
    "plt.show()\n",
    "\n"
   ]
  },
  {
   "cell_type": "markdown",
   "metadata": {},
   "source": [
    "###  Southern Hemisphere - Cloudiness (%) vs. Latitude Linear Regression"
   ]
  },
  {
   "cell_type": "code",
   "execution_count": 87,
   "metadata": {},
   "outputs": [
    {
     "name": "stdout",
     "output_type": "stream",
     "text": [
      "The r value is: 0.07523385468096071\n"
     ]
    },
    {
     "data": {
      "image/png": "[encoded data removed]",
      "text/plain": [
       "<Figure size 432x288 with 1 Axes>"
      ]
     },
     "metadata": {
      "needs_background": "light"
     },
     "output_type": "display_data"
    }
   ],
   "source": [
    "x_values = (south_lat[\"Latitude\"])\n",
    "y_values = (south_lat[\"Cloudiness\"])\n",
    "\n",
    "(slope, intercept, rvalue, pvalue, stderr) = linregress(x_values, y_values)\n",
    "regress_values = x_values * slope + intercept\n",
    "line_eq = \"y = \" + str(round(slope,2)) + \"x + \" + str(round(intercept,2))\n",
    "plt.scatter(x_values,y_values)\n",
    "plt.plot(x_values,regress_values,\"r-\")\n",
    "\n",
    "plt.annotate(line_eq,(-55,60),fontsize=15,color=\"red\")\n",
    "plt.xlabel(\"Latitude\")\n",
    "plt.ylabel(\"Cloudiness (%)\")\n",
    "plt.title(\"Southern Hemisphere - Cloudiness (%) vs. Latitude 10/17/2020\")\n",
    "\n",
    "plt.grid\n",
    "plt.savefig('../output_data/south_cloudiness.png')\n",
    "print(f\"The r value is: {rvalue}\")\n",
    "plt.show()\n"
   ]
  },
  {
   "cell_type": "markdown",
   "metadata": {},
   "source": [
    "###  Northern Hemisphere - Wind Speed (mph) vs. Latitude Linear Regression"
   ]
  },
  {
   "cell_type": "code",
   "execution_count": 88,
   "metadata": {},
   "outputs": [
    {
     "name": "stdout",
     "output_type": "stream",
     "text": [
      "The r value is: 0.1067741593452961\n"
     ]
    },
    {
     "data": {
      "image/png": "[encoded data removed]",
      "text/plain": [
       "<Figure size 432x288 with 1 Axes>"
      ]
     },
     "metadata": {
      "needs_background": "light"
     },
     "output_type": "display_data"
    }
   ],
   "source": [
    "x_values = (north_lat[\"Latitude\"])\n",
    "y_values = (north_lat[\"Wind Speed\"])\n",
    "\n",
    "(slope, intercept, rvalue, pvalue, stderr) = linregress(x_values, y_values)\n",
    "regress_values = x_values * slope + intercept\n",
    "line_eq = \"y = \" + str(round(slope,2)) + \"x + \" + str(round(intercept,2))\n",
    "plt.scatter(x_values,y_values)\n",
    "plt.plot(x_values,regress_values,\"r-\")\n",
    "\n",
    "plt.annotate(line_eq,(10,31),fontsize=15,color=\"red\")\n",
    "plt.xlabel(\"Latitude\")\n",
    "plt.ylabel(\"Wind Speed (mph)\")\n",
    "plt.title(\"Northern Hemisphere - Wind Speed (mph) vs. Latitude 10/17/2020\")\n",
    "\n",
    "plt.grid()\n",
    "plt.savefig('../output_data/north_wind.png')\n",
    "print(f\"The r value is: {rvalue}\")\n",
    "plt.show()\n"
   ]
  },
  {
   "cell_type": "markdown",
   "metadata": {},
   "source": [
    "###  Southern Hemisphere - Wind Speed (mph) vs. Latitude Linear Regression"
   ]
  },
  {
   "cell_type": "code",
   "execution_count": 89,
   "metadata": {},
   "outputs": [
    {
     "name": "stdout",
     "output_type": "stream",
     "text": [
      "The r value is: -0.20313980269392296\n"
     ]
    },
    {
     "data": {
      "image/png": "[encoded data removed]",
      "text/plain": [
       "<Figure size 432x288 with 1 Axes>"
      ]
     },
     "metadata": {
      "needs_background": "light"
     },
     "output_type": "display_data"
    }
   ],
   "source": [
    "x_values = (south_lat[\"Latitude\"])\n",
    "y_values = (south_lat[\"Wind Speed\"])\n",
    "\n",
    "(slope, intercept, rvalue, pvalue, stderr) = linregress(x_values, y_values)\n",
    "regress_values = x_values * slope + intercept\n",
    "line_eq = \"y = \" + str(round(slope,2)) + \"x + \" + str(round(intercept,2))\n",
    "plt.scatter(x_values,y_values)\n",
    "plt.plot(x_values,regress_values,\"r-\")\n",
    "\n",
    "plt.annotate(line_eq,(-40,18),fontsize=15,color=\"red\")\n",
    "plt.xlabel(\"Latitude\")\n",
    "plt.ylabel(\"Wind Speed (mph)\")\n",
    "plt.title(\"Southern Hemisphere - Wind Speed (mph) vs. Latitude 10/17/2020\")\n",
    "\n",
    "plt.grid()\n",
    "plt.savefig('../output_data/south_wind.png')\n",
    "print(f\"The r value is: {rvalue}\")\n",
    "plt.show()\n",
    "\n"
   ]
  },
  {
   "cell_type": "code",
   "execution_count": null,
   "metadata": {},
   "outputs": [],
   "source": []
  },
  {
   "cell_type": "code",
   "execution_count": null,
   "metadata": {},
   "outputs": [],
   "source": []
  }
 ],
 "metadata": {
  "anaconda-cloud": {},
  "kernel_info": {
   "name": "python3"
  },
  "kernelspec": {
   "display_name": "Python 3",
   "language": "python",
   "name": "python3"
  },
  "language_info": {
   "codemirror_mode": {
    "name": "ipython",
    "version": 3
   },
   "file_extension": ".py",
   "mimetype": "text/x-python",
   "name": "python",
   "nbconvert_exporter": "python",
   "pygments_lexer": "ipython3",
   "version": "3.7.6"
  },
  "latex_envs": {
   "LaTeX_envs_menu_present": true,
   "autoclose": false,
   "autocomplete": true,
   "bibliofile": "biblio.bib",
   "cite_by": "apalike",
   "current_citInitial": 1,
   "eqLabelWithNumbers": true,
   "eqNumInitial": 1,
   "hotkeys": {
    "equation": "Ctrl-E",
    "itemize": "Ctrl-I"
   },
   "labels_anchors": false,
   "latex_user_defs": false,
   "report_style_numbering": false,
   "user_envs_cfg": false
  },
  "nteract": {
   "version": "0.12.3"
  },
  "toc": {
   "base_numbering": 1,
   "nav_menu": {},
   "number_sections": true,
   "sideBar": true,
   "skip_h1_title": false,
   "title_cell": "Table of Contents",
   "title_sidebar": "Contents",
   "toc_cell": false,
   "toc_position": {},
   "toc_section_display": true,
   "toc_window_display": false
  },
  "varInspector": {
   "cols": {
    "lenName": 16,
    "lenType": 16,
    "lenVar": 40
   },
   "kernels_config": {
    "python": {
     "delete_cmd_postfix": "",
     "delete_cmd_prefix": "del ",
     "library": "var_list.py",
     "varRefreshCmd": "print(var_dic_list())"
    },
    "r": {
     "delete_cmd_postfix": ") ",
     "delete_cmd_prefix": "rm(",
     "library": "var_list.r",
     "varRefreshCmd": "cat(var_dic_list()) "
    }
   },
   "types_to_exclude": [
    "module",
    "function",
    "builtin_function_or_method",
    "instance",
    "_Feature"
   ],
   "window_display": false
  }
 },
 "nbformat": 4,
 "nbformat_minor": 2
}
