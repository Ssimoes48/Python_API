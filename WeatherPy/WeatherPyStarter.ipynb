{
 "cells": [
  {
   "cell_type": "markdown",
   "metadata": {},
   "source": [
    "# WeatherPy\n",
    "----\n",
    "\n",
    "#### Note\n",
    "* Instructions have been included for each segment. You do not have to follow them exactly, but they are included to help you think through the steps."
   ]
  },
  {
   "cell_type": "code",
   "execution_count": 2,
   "metadata": {
    "scrolled": true
   },
   "outputs": [],
   "source": [
    "# Dependencies and Setup\n",
    "import matplotlib.pyplot as plt\n",
    "import pandas as pd\n",
    "import numpy as np\n",
    "import requests\n",
    "import time\n",
    "from scipy.stats import linregress\n",
    "from datetime import datetime\n",
    "from matplotlib import pyplot as plt\n",
    "from datetime import datetime\n",
    "\n",
    "# Import API key\n",
    "from api_keys import weather_api_key\n",
    "\n",
    "\n",
    "# Incorporated citipy to determine city based on latitude and longitude\n",
    "from citipy import citipy\n",
    "\n",
    "# Output File (CSV)\n",
    "output_data_file = \"../output_data/cities.csv\"\n",
    "\n",
    "# Range of latitudes and longitudes\n",
    "lat_range = (-90, 90)\n",
    "lng_range = (-180, 180)\n"
   ]
  },
  {
   "cell_type": "markdown",
   "metadata": {},
   "source": [
    "## Generate Cities List"
   ]
  },
  {
   "cell_type": "code",
   "execution_count": 3,
   "metadata": {},
   "outputs": [
    {
     "data": {
      "text/plain": [
       "640"
      ]
     },
     "execution_count": 3,
     "metadata": {},
     "output_type": "execute_result"
    }
   ],
   "source": [
    "# List for holding lat_lngs and cities\n",
    "lat_lngs = []\n",
    "cities = []\n",
    "\n",
    "# Create a set of random lat and lng combinations\n",
    "lats = np.random.uniform(lat_range[0], lat_range[1], size=1500)\n",
    "lngs = np.random.uniform(lng_range[0], lng_range[1], size=1500)\n",
    "lat_lngs = zip(lats, lngs)\n",
    "\n",
    "# Identify nearest city for each lat, lng combination\n",
    "for lat_lng in lat_lngs:\n",
    "    city = citipy.nearest_city(lat_lng[0], lat_lng[1]).city_name\n",
    "    \n",
    "    # If the city is unique, then add it to a our cities list\n",
    "    if city not in cities:\n",
    "        cities.append(city)\n",
    "\n",
    "# Print the city count to confirm sufficient count\n",
    "len(cities)\n"
   ]
  },
  {
   "cell_type": "markdown",
   "metadata": {},
   "source": [
    "## Perform API Calls\n",
    "* Perform a weather check on each city using a series of successive API calls.\n",
    "* Include a print log of each city as it'sbeing processed (with the city number and city name).\n"
   ]
  },
  {
   "cell_type": "code",
   "execution_count": 4,
   "metadata": {},
   "outputs": [],
   "source": [
    "url = \"http://api.openweathermap.org/data/2.5/weather?\"\n",
    "units = \"imperial\"\n",
    "\n",
    "# Build partial query URL\n",
    "query_url = f\"{url}appid={weather_api_key}&units={units}&q=\"\n",
    "#print(query_url)"
   ]
  },
  {
   "cell_type": "code",
   "execution_count": 7,
   "metadata": {
    "scrolled": false
   },
   "outputs": [
    {
     "name": "stdout",
     "output_type": "stream",
     "text": [
      "recorded 1: cape town\n",
      "recorded 2: komsomolskiy\n",
      "recorded 3: hofn\n",
      "recorded 4: kaitangata\n",
      "recorded 5: souillac\n",
      "recorded 6: barrow\n",
      "grand river south east city not found\n",
      "recorded 7: bambous virieux\n",
      "recorded 8: yellowknife\n",
      "recorded 9: ushuaia\n",
      "recorded 10: saint-georges\n",
      "recorded 11: erzin\n",
      "bokspits city not found\n",
      "recorded 12: joensuu\n",
      "recorded 13: kapaa\n",
      "longlac city not found\n",
      "recorded 14: guerrero negro\n",
      "recorded 15: bredasdorp\n",
      "recorded 16: talnakh\n",
      "recorded 17: yaya\n",
      "recorded 18: hobart\n",
      "recorded 19: lermontovka\n",
      "recorded 20: geraldton\n",
      "recorded 21: mandalgovi\n",
      "recorded 22: vaini\n",
      "recorded 23: port macquarie\n",
      "recorded 24: rikitea\n",
      "tsihombe city not found\n",
      "recorded 25: ponta do sol\n",
      "recorded 26: cockburn town\n",
      "recorded 27: sinnamary\n",
      "recorded 28: srednekolymsk\n",
      "illoqqortoormiut city not found\n",
      "recorded 29: breves\n",
      "recorded 30: hithadhoo\n",
      "recorded 31: bethel\n",
      "recorded 32: zhezkazgan\n",
      "recorded 33: andenes\n",
      "meyungs city not found\n",
      "recorded 34: busselton\n",
      "recorded 35: albany\n",
      "recorded 36: waseca\n",
      "recorded 37: new norfolk\n",
      "recorded 38: dikson\n",
      "recorded 39: severo-kurilsk\n",
      "recorded 40: derzhavinsk\n",
      "recorded 41: hilo\n",
      "recorded 42: east london\n",
      "recorded 43: karksi-nuia\n",
      "recorded 44: saint-philippe\n",
      "barentsburg city not found\n",
      "recorded 45: mataura\n",
      "recorded 46: dali\n",
      "recorded 47: santa maria\n",
      "recorded 48: provideniya\n",
      "recorded 49: punta arenas\n",
      "recorded 50: port hardy\n",
      "recorded 51: jamestown\n",
      "turtkul city not found\n",
      "recorded 52: victoria\n",
      "formoso do araguaia city not found\n",
      "recorded 53: port alfred\n",
      "recorded 54: georgetown\n",
      "recorded 55: mocuba\n",
      "recorded 56: puerto ayora\n",
      "recorded 57: klaksvik\n",
      "recorded 58: butaritari\n",
      "kerki city not found\n",
      "recorded 59: qaanaaq\n",
      "recorded 60: narsaq\n",
      "recorded 61: nikolskoye\n",
      "recorded 62: tasiilaq\n",
      "recorded 63: alofi\n",
      "recorded 64: vao\n",
      "recorded 65: ribeira grande\n",
      "recorded 66: ayolas\n",
      "recorded 67: castro\n",
      "recorded 68: iqaluit\n",
      "recorded 69: qui nhon\n",
      "recorded 70: huarmey\n",
      "recorded 71: tabou\n",
      "mys shmidta city not found\n",
      "recorded 72: dunedin\n",
      "recorded 73: lerwick\n",
      "recorded 74: tuatapere\n",
      "recorded 75: cheremshan\n",
      "recorded 76: matara\n",
      "recorded 77: thompson\n",
      "recorded 78: hermanus\n",
      "ambodifototra city not found\n",
      "recorded 79: kavieng\n",
      "recorded 80: avera\n",
      "recorded 81: peniche\n",
      "recorded 82: rio gallegos\n",
      "recorded 83: bandarbeyla\n",
      "ngukurr city not found\n",
      "recorded 84: bushehr\n",
      "recorded 85: verkhnevilyuysk\n",
      "recorded 86: chokurdakh\n",
      "recorded 87: muswellbrook\n",
      "recorded 88: quelimane\n",
      "recorded 89: antalaha\n",
      "nizhneyansk city not found\n",
      "recorded 90: conakry\n",
      "recorded 91: smidovich\n",
      "recorded 92: pontes e lacerda\n",
      "recorded 93: cidreira\n",
      "recorded 94: colac\n",
      "recorded 95: neryungri\n",
      "recorded 96: kahului\n",
      "taolanaro city not found\n",
      "recorded 97: faya\n",
      "recorded 98: noumea\n",
      "recorded 99: atuona\n",
      "recorded 100: porto novo\n",
      "recorded 101: santomera\n",
      "recorded 102: vanimo\n",
      "recorded 103: faanui\n",
      "recorded 104: sola\n",
      "recorded 105: kouqian\n",
      "recorded 106: puerto escondido\n",
      "recorded 107: aykhal\n",
      "recorded 108: singkawang\n",
      "recorded 109: fairbanks\n",
      "recorded 110: avarua\n",
      "recorded 111: chivay\n",
      "vaitupu city not found\n",
      "recorded 112: tuktoyaktuk\n",
      "recorded 113: asau\n",
      "saleaula city not found\n",
      "recorded 114: cherskiy\n",
      "recorded 115: bluff\n",
      "recorded 116: tocopilla\n",
      "recorded 117: bemidji\n",
      "recorded 118: sao joao da barra\n",
      "recorded 119: sur\n",
      "cheuskiny city not found\n",
      "recorded 120: buala\n",
      "recorded 121: haines junction\n",
      "recorded 122: nara\n",
      "recorded 123: sao felix do xingu\n",
      "recorded 124: martinsicuro\n",
      "recorded 125: touros\n",
      "ust-kamchatsk city not found\n",
      "recorded 126: sidi ali\n",
      "recorded 127: padang\n",
      "recorded 128: guasdualito\n",
      "recorded 129: anadyr\n",
      "recorded 130: ancud\n",
      "recorded 131: lorengau\n",
      "recorded 132: ostersund\n",
      "recorded 133: hovd\n",
      "recorded 134: urusha\n",
      "recorded 135: fairview\n",
      "recorded 136: tura\n",
      "tabiauea city not found\n",
      "recorded 137: port augusta\n",
      "recorded 138: port shepstone\n",
      "recorded 139: mount gambier\n",
      "recorded 140: mabaruma\n",
      "recorded 141: ternate\n",
      "recorded 142: palani\n",
      "recorded 143: hirara\n",
      "recorded 144: longyearbyen\n",
      "recorded 145: te anau\n",
      "recorded 146: comandau\n",
      "recorded 147: sieradz\n",
      "recorded 148: codrington\n",
      "recorded 149: cabo san lucas\n",
      "recorded 150: kungurtug\n",
      "bolshoy tsaryn city not found\n",
      "recorded 151: sal rei\n",
      "recorded 152: jinji\n",
      "recorded 153: norman wells\n",
      "recorded 154: erdenet\n",
      "recorded 155: gosainganj\n",
      "recorded 156: vanavara\n",
      "umzimvubu city not found\n",
      "belushya guba city not found\n",
      "recorded 157: hasaki\n",
      "recorded 158: hwange\n",
      "marcona city not found\n",
      "recorded 159: banjar\n",
      "recorded 160: hervey bay\n",
      "recorded 161: jumla\n",
      "recorded 162: petropavlovsk-kamchatskiy\n",
      "recorded 163: mahebourg\n",
      "recorded 164: shitanjing\n",
      "khristoforovo city not found\n",
      "recorded 165: puerto narino\n",
      "recorded 166: yulara\n",
      "recorded 167: yarada\n",
      "recorded 168: mar del plata\n",
      "recorded 169: nemuro\n",
      "recorded 170: russelsheim\n",
      "recorded 171: lazo\n",
      "recorded 172: chapais\n",
      "recorded 173: nabire\n",
      "recorded 174: livingstone\n",
      "recorded 175: gorontalo\n",
      "recorded 176: olinda\n",
      "recorded 177: vila franca do campo\n",
      "recorded 178: hami\n",
      "recorded 179: shirokiy\n",
      "recorded 180: gayeri\n",
      "recorded 181: axim\n",
      "recorded 182: bertoua\n",
      "recorded 183: luderitz\n",
      "recorded 184: saint-francois\n",
      "recorded 185: cairns\n",
      "recorded 186: coruripe\n",
      "orjahovo city not found\n",
      "recorded 187: modakeke\n",
      "recorded 188: tynda\n",
      "recorded 189: les cayes\n",
      "recorded 190: ambovombe\n",
      "recorded 191: pereira barreto\n",
      "recorded 192: jacareacanga\n",
      "recorded 193: putina\n",
      "ijaki city not found\n",
      "recorded 194: bilma\n",
      "recorded 195: ostrovnoy\n",
      "recorded 196: ilulissat\n",
      "recorded 197: zyryanka\n",
      "recorded 198: vangaindrano\n",
      "recorded 199: muros\n",
      "recorded 200: hualmay\n",
      "recorded 201: takoradi\n",
      "recorded 202: owando\n",
      "recorded 203: qena\n",
      "recorded 204: itarema\n",
      "recorded 205: khatanga\n",
      "recorded 206: leningradskiy\n",
      "recorded 207: suntar\n",
      "recorded 208: mehamn\n",
      "recorded 209: port hedland\n",
      "recorded 210: tilichiki\n",
      "recorded 211: gopamau\n",
      "recorded 212: boende\n",
      "palabuhanratu city not found\n",
      "recorded 213: acapulco\n",
      "recorded 214: kavaratti\n",
      "recorded 215: flinders\n",
      "recorded 216: oktyabrskoye\n",
      "recorded 217: luanda\n",
      "recorded 218: kidal\n",
      "recorded 219: kodiak\n",
      "recorded 220: taoudenni\n",
      "recorded 221: kamenka\n",
      "recorded 222: carauari\n",
      "recorded 223: rawson\n",
      "recorded 224: gamba\n",
      "tongsa city not found\n",
      "recorded 225: nouadhibou\n",
      "recorded 226: fort william\n",
      "recorded 227: lompoc\n",
      "recorded 228: evensk\n",
      "recorded 229: yaan\n",
      "recorded 230: half moon bay\n",
      "recorded 231: sungaipenuh\n",
      "tumannyy city not found\n",
      "recorded 232: hamilton\n",
      "recorded 233: khonsa\n",
      "recorded 234: namibe\n",
      "recorded 235: saskylakh\n",
      "recorded 236: kaeo\n",
      "recorded 237: emerald\n",
      "recorded 238: lebu\n",
      "recorded 239: koumac\n",
      "recorded 240: valparaiso\n",
      "recorded 241: airai\n",
      "recorded 242: manavalakurichi\n",
      "recorded 243: makakilo city\n",
      "recorded 244: deniliquin\n",
      "recorded 245: yatou\n",
      "recorded 246: umm kaddadah\n",
      "recorded 247: ocho rios\n",
      "recorded 248: orzhytsya\n",
      "recorded 249: bengkulu\n",
      "recorded 250: jizan\n",
      "kazalinsk city not found\n",
      "recorded 251: havre-saint-pierre\n",
      "recorded 252: prainha\n",
      "recorded 253: khash\n",
      "samalaeulu city not found\n",
      "recorded 254: tchollire\n",
      "recorded 255: saldanha\n",
      "recorded 256: salalah\n",
      "recorded 257: jimenez\n",
      "amderma city not found\n",
      "recorded 258: aklavik\n",
      "recorded 259: brae\n",
      "recorded 260: lobito\n",
      "recorded 261: nanortalik\n",
      "recorded 262: tiksi\n",
      "recorded 263: filadelfia\n",
      "recorded 264: batagay-alyta\n",
      "recorded 265: kieta\n",
      "recorded 266: pevek\n",
      "recorded 267: magan\n",
      "recorded 268: hauterive\n",
      "recorded 269: elizabethtown\n",
      "recorded 270: kutum\n",
      "recorded 271: sao jose da coroa grande\n",
      "karistos city not found\n",
      "recorded 272: ende\n",
      "recorded 273: saint george\n",
      "recorded 274: ossora\n",
      "recorded 275: san patricio\n",
      "recorded 276: terrak\n",
      "recorded 277: port-cartier\n",
      "recorded 278: wanning\n",
      "recorded 279: borodyanka\n",
      "recorded 280: pacific grove\n",
      "recorded 281: hisai\n",
      "recorded 282: escuintla\n",
      "recorded 283: storm lake\n",
      "recorded 284: palora\n",
      "sentyabrskiy city not found\n",
      "recorded 285: carnarvon\n",
      "recorded 286: lagoa\n",
      "recorded 287: ornskoldsvik\n",
      "recorded 288: roquetas de mar\n",
      "recorded 289: calabozo\n",
      "recorded 290: mahibadhoo\n",
      "recorded 291: teya\n",
      "recorded 292: zhigansk\n",
      "recorded 293: comodoro rivadavia\n",
      "recorded 294: adeje\n",
      "recorded 295: terre haute\n",
      "recorded 296: thinadhoo\n",
      "recorded 297: matagami\n",
      "recorded 298: antofagasta\n",
      "recorded 299: saint-joseph\n",
      "recorded 300: upernavik\n",
      "recorded 301: tsabong\n",
      "recorded 302: rantepao\n",
      "recorded 303: kitui\n",
      "recorded 304: orange cove\n",
      "recorded 305: quatre cocos\n",
      "recorded 306: grand gaube\n",
      "recorded 307: severnyy\n",
      "recorded 308: san cristobal\n",
      "recorded 309: teshie\n",
      "recorded 310: naze\n",
      "recorded 311: kiama\n",
      "recorded 312: yar-sale\n",
      "recorded 313: winneba\n",
      "recorded 314: albanel\n",
      "doctor pedro p. pena city not found\n"
     ]
    },
    {
     "name": "stdout",
     "output_type": "stream",
     "text": [
      "paradwip city not found\n",
      "recorded 315: opuwo\n",
      "recorded 316: tornio\n",
      "mrirt city not found\n",
      "bur gabo city not found\n",
      "recorded 317: nata\n",
      "recorded 318: pangody\n",
      "recorded 319: nizhnevartovsk\n",
      "recorded 320: lebanon\n",
      "samusu city not found\n",
      "recorded 321: beyneu\n",
      "recorded 322: nevers\n",
      "recorded 323: manzhouli\n",
      "recorded 324: saint-pierre\n",
      "recorded 325: berlevag\n",
      "recorded 326: kraskino\n",
      "recorded 327: rio grande\n",
      "recorded 328: cayenne\n",
      "recorded 329: dickinson\n",
      "recorded 330: akyab\n",
      "recorded 331: sorland\n",
      "recorded 332: saint-augustin\n",
      "recorded 333: teguise\n",
      "recorded 334: chuy\n",
      "recorded 335: kashi\n",
      "recorded 336: mersing\n",
      "recorded 337: mathbaria\n",
      "chagda city not found\n",
      "warqla city not found\n",
      "recorded 338: gat\n",
      "recorded 339: sawtell\n",
      "recorded 340: los zacatones\n",
      "recorded 341: tulagi\n",
      "recorded 342: sabang\n",
      "recorded 343: joshimath\n",
      "recorded 344: constitucion\n",
      "recorded 345: langxiang\n",
      "recorded 346: yima\n",
      "recorded 347: mareeba\n",
      "recorded 348: esperance\n",
      "recorded 349: great bend\n",
      "attawapiskat city not found\n",
      "recorded 350: novoagansk\n",
      "recorded 351: cap-aux-meules\n",
      "recorded 352: ufa\n",
      "recorded 353: vitim\n",
      "recorded 354: yurimaguas\n",
      "recorded 355: mount isa\n",
      "recorded 356: yaounde\n",
      "recorded 357: west bay\n",
      "recorded 358: kochi\n",
      "recorded 359: cururupu\n",
      "ruatoria city not found\n",
      "recorded 360: athabasca\n",
      "recorded 361: ambon\n",
      "recorded 362: bahia blanca\n",
      "recorded 363: puerto carreno\n",
      "recorded 364: haikou\n",
      "recorded 365: betanzos\n",
      "recorded 366: katsuura\n",
      "recorded 367: kenai\n",
      "recorded 368: vozrozhdeniye\n",
      "recorded 369: vardo\n",
      "recorded 370: markova\n",
      "recorded 371: gaomi\n",
      "recorded 372: gizo\n",
      "recorded 373: hobyo\n",
      "recorded 374: kloulklubed\n",
      "recorded 375: fethiye\n",
      "recorded 376: show low\n",
      "recorded 377: amapa\n",
      "recorded 378: banda aceh\n",
      "kamenskoye city not found\n",
      "recorded 379: arraial do cabo\n",
      "recorded 380: shingu\n",
      "recorded 381: beaumont\n",
      "recorded 382: marystown\n",
      "recorded 383: algiers\n",
      "recorded 384: kure\n",
      "recorded 385: fatsa\n",
      "recorded 386: miri\n",
      "recorded 387: broken hill\n",
      "louisbourg city not found\n",
      "recorded 388: port lincoln\n",
      "recorded 389: novyy urgal\n",
      "recorded 390: birao\n",
      "recorded 391: nago\n",
      "recorded 392: seoul\n",
      "recorded 393: hailey\n",
      "recorded 394: margate\n",
      "recorded 395: rocha\n",
      "recorded 396: rudsar\n",
      "recorded 397: deputatskiy\n",
      "recorded 398: sao geraldo do araguaia\n",
      "recorded 399: kankon\n",
      "recorded 400: port elizabeth\n",
      "recorded 401: cotonou\n",
      "recorded 402: talaya\n",
      "recorded 403: maragogi\n",
      "recorded 404: adrar\n",
      "recorded 405: lincoln\n",
      "recorded 406: irtyshskiy\n",
      "recorded 407: tagusao\n",
      "recorded 408: manaure\n",
      "recorded 409: erzincan\n",
      "recorded 410: urumqi\n",
      "recorded 411: coihaique\n",
      "recorded 412: sitka\n",
      "recorded 413: baykit\n",
      "recorded 414: voyvozh\n",
      "recorded 415: pisco\n",
      "recorded 416: udachnyy\n",
      "recorded 417: shimanovsk\n",
      "recorded 418: santa isabel do rio negro\n",
      "recorded 419: marsh harbour\n",
      "recorded 420: naryan-mar\n",
      "recorded 421: flin flon\n",
      "recorded 422: cartagena\n",
      "recorded 423: marratxi\n",
      "recorded 424: kremsmunster\n",
      "recorded 425: san policarpo\n",
      "recorded 426: rusape\n",
      "lolua city not found\n",
      "recorded 427: warrington\n",
      "recorded 428: sala\n",
      "recorded 429: mangan\n",
      "recorded 430: la argentina\n",
      "recorded 431: amalapuram\n",
      "recorded 432: batemans bay\n",
      "hihifo city not found\n",
      "recorded 433: pella\n",
      "recorded 434: shache\n",
      "tanshui city not found\n",
      "recorded 435: wanaka\n",
      "recorded 436: inhambane\n",
      "recorded 437: nome\n",
      "recorded 438: mercedes\n",
      "recorded 439: usinsk\n",
      "recorded 440: yamada\n",
      "recorded 441: ponta delgada\n",
      "recorded 442: zhangjiakou\n",
      "recorded 443: kenora\n",
      "recorded 444: kuusamo\n",
      "recorded 445: sabzevar\n",
      "recorded 446: mehran\n",
      "recorded 447: vijes\n",
      "umm jarr city not found\n",
      "recorded 448: bonthe\n",
      "recorded 449: amurrio\n",
      "grande-riviere city not found\n",
      "recorded 450: ewa beach\n",
      "recorded 451: henties bay\n",
      "recorded 452: mesagne\n",
      "recorded 453: santa cruz\n",
      "recorded 454: dawson creek\n",
      "recorded 455: lumberton\n",
      "recorded 456: baruun-urt\n",
      "recorded 457: fortuna\n",
      "recorded 458: caceres\n",
      "recorded 459: bogotol\n",
      "recorded 460: le port\n",
      "recorded 461: kosh-agach\n",
      "recorded 462: shenjiamen\n",
      "recorded 463: george town\n",
      "recorded 464: dingle\n",
      "recorded 465: vaitape\n",
      "recorded 466: borisoglebsk\n",
      "recorded 467: sarkand\n",
      "recorded 468: beloha\n",
      "recorded 469: harper\n",
      "recorded 470: korla\n",
      "recorded 471: portland\n",
      "recorded 472: shagonar\n",
      "recorded 473: humberto de campos\n",
      "recorded 474: poum\n",
      "recorded 475: kollo\n",
      "recorded 476: praia da vitoria\n",
      "recorded 477: mahuva\n",
      "recorded 478: yumen\n",
      "azimur city not found\n",
      "recorded 479: tsagan aman\n",
      "recorded 480: walvis bay\n",
      "recorded 481: mildura\n",
      "recorded 482: uaua\n",
      "recorded 483: ginda\n",
      "recorded 484: tamiahua\n",
      "recorded 485: yakeshi\n",
      "recorded 486: soure\n",
      "recorded 487: morro bay\n",
      "recorded 488: solnechnyy\n",
      "recorded 489: marienburg\n",
      "recorded 490: cukai\n",
      "recorded 491: arthur\n",
      "recorded 492: vostok\n",
      "recorded 493: lasa\n",
      "recorded 494: redlands\n",
      "recorded 495: kandhla\n",
      "recorded 496: gornyy\n",
      "recorded 497: coahuayana\n",
      "recorded 498: muisne\n",
      "recorded 499: songjianghe\n",
      "glubokoe city not found\n",
      "recorded 500: champerico\n",
      "recorded 501: grindavik\n",
      "recorded 502: huilong\n",
      "recorded 503: kruisfontein\n",
      "recorded 504: tabuk\n",
      "recorded 505: ketchikan\n",
      "recorded 506: puerto salgar\n",
      "recorded 507: torbay\n",
      "recorded 508: camacha\n",
      "recorded 509: baghdad\n",
      "recorded 510: buraydah\n",
      "recorded 511: abu samrah\n",
      "recorded 512: california city\n",
      "recorded 513: pasni\n",
      "recorded 514: upata\n",
      "recorded 515: kantang\n",
      "recorded 516: vila velha\n",
      "malwan city not found\n",
      "recorded 517: kandiari\n",
      "recorded 518: balabac\n",
      "recorded 519: kapit\n",
      "recorded 520: almaznyy\n",
      "recorded 521: crest hill\n",
      "recorded 522: durango\n",
      "recorded 523: subate\n",
      "recorded 524: lafayette\n",
      "recorded 525: necochea\n",
      "recorded 526: teknaf\n",
      "recorded 527: ozinki\n",
      "recorded 528: briceno\n",
      "recorded 529: qeshm\n",
      "recorded 530: fecamp\n",
      "recorded 531: kollam\n",
      "recorded 532: acarau\n",
      "recorded 533: frontera\n",
      "recorded 534: velasco ibarra\n",
      "recorded 535: minyar\n",
      "recorded 536: bathsheba\n",
      "recorded 537: westport\n",
      "recorded 538: soe\n",
      "recorded 539: sao miguel do araguaia\n",
      "recorded 540: xining\n",
      "recorded 541: port keats\n",
      "recorded 542: richards bay\n",
      "recorded 543: daru\n",
      "recorded 544: libenge\n",
      "recorded 545: russell\n",
      "recorded 546: bafq\n",
      "recorded 547: ust-ishim\n",
      "recorded 548: honningsvag\n",
      "recorded 549: lake charles\n",
      "recorded 550: qatana\n",
      "recorded 551: puerto quijarro\n",
      "recorded 552: lure\n",
      "recorded 553: san fernando\n",
      "recorded 554: katangli\n",
      "recorded 555: saint-paul\n",
      "recorded 556: beringovskiy\n",
      "recorded 557: veraval\n",
      "recorded 558: lavrentiya\n",
      "recorded 559: jaisalmer\n",
      "recorded 560: montepuez\n",
      "recorded 561: poli\n",
      "recorded 562: ihiala\n",
      "recorded 563: bosaso\n",
      "recorded 564: wawa\n",
      "recorded 565: san carlos\n",
      "recorded 566: bairiki\n",
      "recorded 567: miram shah\n",
      "recorded 568: llata\n",
      "recorded 569: cauquenes\n",
      "recorded 570: nioro\n",
      "recorded 571: swan hill\n",
      "recorded 572: namatanai\n",
      "recorded 573: xuddur\n",
      "recorded 574: fort morgan\n",
      "recorded 575: bamnet narong\n",
      "recorded 576: sakakah\n",
      "recorded 577: karratha\n",
      "recorded 578: port blair\n",
      "recorded 579: trinidad\n",
      "recorded 580: ati\n",
      "recorded 581: jibuti\n",
      "recorded 582: laguna\n",
      "recorded 583: kangaatsiaq\n",
      "recorded 584: tlacotepec\n",
      "recorded 585: colomi\n",
      "recorded 586: tonosho\n"
     ]
    }
   ],
   "source": [
    "\n",
    "#cities_test = [\"Paris\", \"London\", \"Gretel\", \"Beijing\"]\n",
    "lat = []\n",
    "lng = []\n",
    "temp = []\n",
    "max_temp = []\n",
    "humidity = []\n",
    "cloudiness = []\n",
    "wind_speed = []\n",
    "country = []\n",
    "date = []\n",
    "name = []\n",
    "i = 0\n",
    "\n",
    "#Loop through the list of cities and perform a request for data on each\n",
    "for city in cities:\n",
    "    response = requests.get(query_url + city).json()\n",
    "    if i % 50 == 0:\n",
    "        time.sleep(5)\n",
    "\n",
    "    try: \n",
    "        lat.append(response['coord']['lat'])\n",
    "        lng.append(response['coord']['lon'])\n",
    "        temp.append(response['main']['temp'])\n",
    "        max_temp.append(response['main']['temp_max'])\n",
    "        humidity.append(response['main']['humidity'])\n",
    "        cloudiness.append(response['clouds']['all'])\n",
    "        wind_speed.append(response['wind']['speed'])\n",
    "        country.append(response['sys']['country'])\n",
    "        date.append(response['dt'])\n",
    "        name.append(response['name'])\n",
    "        i = i + 1\n",
    "        print(f\"recorded {i}: {city}\")\n",
    "        \n",
    "    except KeyError: \n",
    "        print(f\"{city} city not found\")\n",
    "\n",
    "\n",
    "#print(response)\n",
    "\n",
    "#print(f\"The latitude is: {lat}\")\n",
    "#print(f\"The lon is: {lng}\") \n",
    "#print(f\"The temp is: {temp}\") \n",
    "#print(f\"The max temp is: {max_temp}\")\n",
    "#print(f\"The humidity is: {humidity}\")\n",
    "#print(f\"The cloudiness is: {cloudiness}\")\n",
    "#print(f\"The wind speed is: {wind_speed}\")\n",
    "#print(f\"The country is: {country}\")\n",
    "#print(f\"The date is: {date}\")"
   ]
  },
  {
   "cell_type": "markdown",
   "metadata": {},
   "source": [
    "To gather my random world wide city data, I used a `.random.uniform` function to pull a set of 575 cities from varying latitudes and longitudes. Once I compiled this list, I ran a `for loop` to gather data on each city’s maximum temperature, humidity percent level, cloudiness percent, and wind speed. I added this information to a `DataFrame` to analyze. Due to limitations in pulling the data, I added `time.sleep()` after every 50 cities pulled in my code so that I would not exceed my limit of data pulls from the OpenWeatherMap API. "
   ]
  },
  {
   "cell_type": "markdown",
   "metadata": {},
   "source": [
    "#used test city data and for loop to run through data and record city info. "
   ]
  },
  {
   "cell_type": "code",
   "execution_count": 8,
   "metadata": {},
   "outputs": [
    {
     "name": "stdout",
     "output_type": "stream",
     "text": [
      "2020-10-17 02:02:18\n"
     ]
    }
   ],
   "source": [
    "#figure out ways to convert time stamp to date\n",
    "d = datetime.utcfromtimestamp(1602900138)\n",
    "\n",
    "print(d)"
   ]
  },
  {
   "cell_type": "markdown",
   "metadata": {},
   "source": [
    "## Convert Raw Data to DataFrame\n",
    "* Save as csv"
   ]
  },
  {
   "cell_type": "code",
   "execution_count": 9,
   "metadata": {
    "scrolled": false
   },
   "outputs": [
    {
     "data": {
      "text/html": [
       "<div>\n",
       "<style scoped>\n",
       "    .dataframe tbody tr th:only-of-type {\n",
       "        vertical-align: middle;\n",
       "    }\n",
       "\n",
       "    .dataframe tbody tr th {\n",
       "        vertical-align: top;\n",
       "    }\n",
       "\n",
       "    .dataframe thead th {\n",
       "        text-align: right;\n",
       "    }\n",
       "</style>\n",
       "<table border=\"1\" class=\"dataframe\">\n",
       "  <thead>\n",
       "    <tr style=\"text-align: right;\">\n",
       "      <th></th>\n",
       "      <th>City</th>\n",
       "      <th>Latitude</th>\n",
       "      <th>Longitude</th>\n",
       "      <th>Max Temp</th>\n",
       "      <th>Humidity</th>\n",
       "      <th>Cloudiness</th>\n",
       "      <th>Wind Speed</th>\n",
       "      <th>Country</th>\n",
       "      <th>Date</th>\n",
       "    </tr>\n",
       "  </thead>\n",
       "  <tbody>\n",
       "    <tr>\n",
       "      <th>0</th>\n",
       "      <td>Cape Town</td>\n",
       "      <td>-33.93</td>\n",
       "      <td>18.42</td>\n",
       "      <td>60.01</td>\n",
       "      <td>62</td>\n",
       "      <td>0</td>\n",
       "      <td>14.99</td>\n",
       "      <td>ZA</td>\n",
       "      <td>1603215618</td>\n",
       "    </tr>\n",
       "    <tr>\n",
       "      <th>1</th>\n",
       "      <td>Yangi Marg`ilon</td>\n",
       "      <td>40.43</td>\n",
       "      <td>71.72</td>\n",
       "      <td>57.20</td>\n",
       "      <td>50</td>\n",
       "      <td>0</td>\n",
       "      <td>6.93</td>\n",
       "      <td>UZ</td>\n",
       "      <td>1603215549</td>\n",
       "    </tr>\n",
       "    <tr>\n",
       "      <th>2</th>\n",
       "      <td>Hofn</td>\n",
       "      <td>64.25</td>\n",
       "      <td>-15.21</td>\n",
       "      <td>37.51</td>\n",
       "      <td>72</td>\n",
       "      <td>20</td>\n",
       "      <td>4.23</td>\n",
       "      <td>IS</td>\n",
       "      <td>1603215623</td>\n",
       "    </tr>\n",
       "    <tr>\n",
       "      <th>3</th>\n",
       "      <td>Kaitangata</td>\n",
       "      <td>-46.28</td>\n",
       "      <td>169.85</td>\n",
       "      <td>48.00</td>\n",
       "      <td>85</td>\n",
       "      <td>98</td>\n",
       "      <td>1.99</td>\n",
       "      <td>NZ</td>\n",
       "      <td>1603215353</td>\n",
       "    </tr>\n",
       "    <tr>\n",
       "      <th>4</th>\n",
       "      <td>Souillac</td>\n",
       "      <td>-20.52</td>\n",
       "      <td>57.52</td>\n",
       "      <td>75.20</td>\n",
       "      <td>73</td>\n",
       "      <td>20</td>\n",
       "      <td>11.41</td>\n",
       "      <td>MU</td>\n",
       "      <td>1603215623</td>\n",
       "    </tr>\n",
       "  </tbody>\n",
       "</table>\n",
       "</div>"
      ],
      "text/plain": [
       "              City  Latitude  Longitude  Max Temp  Humidity  Cloudiness  \\\n",
       "0        Cape Town    -33.93      18.42     60.01        62           0   \n",
       "1  Yangi Marg`ilon     40.43      71.72     57.20        50           0   \n",
       "2             Hofn     64.25     -15.21     37.51        72          20   \n",
       "3       Kaitangata    -46.28     169.85     48.00        85          98   \n",
       "4         Souillac    -20.52      57.52     75.20        73          20   \n",
       "\n",
       "   Wind Speed Country        Date  \n",
       "0       14.99      ZA  1603215618  \n",
       "1        6.93      UZ  1603215549  \n",
       "2        4.23      IS  1603215623  \n",
       "3        1.99      NZ  1603215353  \n",
       "4       11.41      MU  1603215623  "
      ]
     },
     "execution_count": 9,
     "metadata": {},
     "output_type": "execute_result"
    }
   ],
   "source": [
    "#create dataframe with all weather data. save to csv to work on for rest of project\n",
    "weather_data_df = pd.DataFrame({\"City\": name, \"Latitude\": lat, \"Longitude\": lng, \"Max Temp\": max_temp, \"Humidity\": humidity, \"Cloudiness\": cloudiness, \"Wind Speed\": wind_speed, \"Country\": country, \"Date\": date})\n",
    "\n",
    "\n",
    "weather_data_df.to_csv(output_data_file, index=False)\n",
    "weather_data_df.head()"
   ]
  },
  {
   "cell_type": "code",
   "execution_count": 10,
   "metadata": {},
   "outputs": [
    {
     "data": {
      "text/html": [
       "<div>\n",
       "<style scoped>\n",
       "    .dataframe tbody tr th:only-of-type {\n",
       "        vertical-align: middle;\n",
       "    }\n",
       "\n",
       "    .dataframe tbody tr th {\n",
       "        vertical-align: top;\n",
       "    }\n",
       "\n",
       "    .dataframe thead th {\n",
       "        text-align: right;\n",
       "    }\n",
       "</style>\n",
       "<table border=\"1\" class=\"dataframe\">\n",
       "  <thead>\n",
       "    <tr style=\"text-align: right;\">\n",
       "      <th></th>\n",
       "      <th>City</th>\n",
       "      <th>Latitude</th>\n",
       "      <th>Longitude</th>\n",
       "      <th>Max Temp</th>\n",
       "      <th>Humidity</th>\n",
       "      <th>Cloudiness</th>\n",
       "      <th>Wind Speed</th>\n",
       "      <th>Country</th>\n",
       "      <th>Date</th>\n",
       "    </tr>\n",
       "  </thead>\n",
       "  <tbody>\n",
       "    <tr>\n",
       "      <th>0</th>\n",
       "      <td>Cape Town</td>\n",
       "      <td>-33.93</td>\n",
       "      <td>18.42</td>\n",
       "      <td>60.01</td>\n",
       "      <td>62</td>\n",
       "      <td>0</td>\n",
       "      <td>14.99</td>\n",
       "      <td>ZA</td>\n",
       "      <td>1603215618</td>\n",
       "    </tr>\n",
       "    <tr>\n",
       "      <th>1</th>\n",
       "      <td>Yangi Marg`ilon</td>\n",
       "      <td>40.43</td>\n",
       "      <td>71.72</td>\n",
       "      <td>57.20</td>\n",
       "      <td>50</td>\n",
       "      <td>0</td>\n",
       "      <td>6.93</td>\n",
       "      <td>UZ</td>\n",
       "      <td>1603215549</td>\n",
       "    </tr>\n",
       "    <tr>\n",
       "      <th>2</th>\n",
       "      <td>Hofn</td>\n",
       "      <td>64.25</td>\n",
       "      <td>-15.21</td>\n",
       "      <td>37.51</td>\n",
       "      <td>72</td>\n",
       "      <td>20</td>\n",
       "      <td>4.23</td>\n",
       "      <td>IS</td>\n",
       "      <td>1603215623</td>\n",
       "    </tr>\n",
       "    <tr>\n",
       "      <th>3</th>\n",
       "      <td>Kaitangata</td>\n",
       "      <td>-46.28</td>\n",
       "      <td>169.85</td>\n",
       "      <td>48.00</td>\n",
       "      <td>85</td>\n",
       "      <td>98</td>\n",
       "      <td>1.99</td>\n",
       "      <td>NZ</td>\n",
       "      <td>1603215353</td>\n",
       "    </tr>\n",
       "    <tr>\n",
       "      <th>4</th>\n",
       "      <td>Souillac</td>\n",
       "      <td>-20.52</td>\n",
       "      <td>57.52</td>\n",
       "      <td>75.20</td>\n",
       "      <td>73</td>\n",
       "      <td>20</td>\n",
       "      <td>11.41</td>\n",
       "      <td>MU</td>\n",
       "      <td>1603215623</td>\n",
       "    </tr>\n",
       "  </tbody>\n",
       "</table>\n",
       "</div>"
      ],
      "text/plain": [
       "              City  Latitude  Longitude  Max Temp  Humidity  Cloudiness  \\\n",
       "0        Cape Town    -33.93      18.42     60.01        62           0   \n",
       "1  Yangi Marg`ilon     40.43      71.72     57.20        50           0   \n",
       "2             Hofn     64.25     -15.21     37.51        72          20   \n",
       "3       Kaitangata    -46.28     169.85     48.00        85          98   \n",
       "4         Souillac    -20.52      57.52     75.20        73          20   \n",
       "\n",
       "   Wind Speed Country        Date  \n",
       "0       14.99      ZA  1603215618  \n",
       "1        6.93      UZ  1603215549  \n",
       "2        4.23      IS  1603215623  \n",
       "3        1.99      NZ  1603215353  \n",
       "4       11.41      MU  1603215623  "
      ]
     },
     "execution_count": 10,
     "metadata": {},
     "output_type": "execute_result"
    }
   ],
   "source": [
    "#re-add date as CSV file \n",
    "file = \"../output_data/cities.csv\"\n",
    "\n",
    "\n",
    "cities_df = pd.read_csv(file)\n",
    "cities_df.head()\n",
    "\n",
    "\n"
   ]
  },
  {
   "cell_type": "code",
   "execution_count": 11,
   "metadata": {},
   "outputs": [
    {
     "data": {
      "text/html": [
       "<div>\n",
       "<style scoped>\n",
       "    .dataframe tbody tr th:only-of-type {\n",
       "        vertical-align: middle;\n",
       "    }\n",
       "\n",
       "    .dataframe tbody tr th {\n",
       "        vertical-align: top;\n",
       "    }\n",
       "\n",
       "    .dataframe thead th {\n",
       "        text-align: right;\n",
       "    }\n",
       "</style>\n",
       "<table border=\"1\" class=\"dataframe\">\n",
       "  <thead>\n",
       "    <tr style=\"text-align: right;\">\n",
       "      <th></th>\n",
       "      <th>City</th>\n",
       "      <th>Latitude</th>\n",
       "      <th>Longitude</th>\n",
       "      <th>Max Temp</th>\n",
       "      <th>Humidity</th>\n",
       "      <th>Cloudiness</th>\n",
       "      <th>Wind Speed</th>\n",
       "      <th>Country</th>\n",
       "      <th>Date</th>\n",
       "    </tr>\n",
       "  </thead>\n",
       "  <tbody>\n",
       "    <tr>\n",
       "      <th>0</th>\n",
       "      <td>Cape Town</td>\n",
       "      <td>-33.93</td>\n",
       "      <td>18.42</td>\n",
       "      <td>60.01</td>\n",
       "      <td>62</td>\n",
       "      <td>0</td>\n",
       "      <td>14.99</td>\n",
       "      <td>ZA</td>\n",
       "      <td>2020-10-20 17:40:18</td>\n",
       "    </tr>\n",
       "    <tr>\n",
       "      <th>1</th>\n",
       "      <td>Yangi Marg`ilon</td>\n",
       "      <td>40.43</td>\n",
       "      <td>71.72</td>\n",
       "      <td>57.20</td>\n",
       "      <td>50</td>\n",
       "      <td>0</td>\n",
       "      <td>6.93</td>\n",
       "      <td>UZ</td>\n",
       "      <td>2020-10-20 17:39:09</td>\n",
       "    </tr>\n",
       "    <tr>\n",
       "      <th>2</th>\n",
       "      <td>Hofn</td>\n",
       "      <td>64.25</td>\n",
       "      <td>-15.21</td>\n",
       "      <td>37.51</td>\n",
       "      <td>72</td>\n",
       "      <td>20</td>\n",
       "      <td>4.23</td>\n",
       "      <td>IS</td>\n",
       "      <td>2020-10-20 17:40:23</td>\n",
       "    </tr>\n",
       "    <tr>\n",
       "      <th>3</th>\n",
       "      <td>Kaitangata</td>\n",
       "      <td>-46.28</td>\n",
       "      <td>169.85</td>\n",
       "      <td>48.00</td>\n",
       "      <td>85</td>\n",
       "      <td>98</td>\n",
       "      <td>1.99</td>\n",
       "      <td>NZ</td>\n",
       "      <td>2020-10-20 17:35:53</td>\n",
       "    </tr>\n",
       "    <tr>\n",
       "      <th>4</th>\n",
       "      <td>Souillac</td>\n",
       "      <td>-20.52</td>\n",
       "      <td>57.52</td>\n",
       "      <td>75.20</td>\n",
       "      <td>73</td>\n",
       "      <td>20</td>\n",
       "      <td>11.41</td>\n",
       "      <td>MU</td>\n",
       "      <td>2020-10-20 17:40:23</td>\n",
       "    </tr>\n",
       "  </tbody>\n",
       "</table>\n",
       "</div>"
      ],
      "text/plain": [
       "              City  Latitude  Longitude  Max Temp  Humidity  Cloudiness  \\\n",
       "0        Cape Town    -33.93      18.42     60.01        62           0   \n",
       "1  Yangi Marg`ilon     40.43      71.72     57.20        50           0   \n",
       "2             Hofn     64.25     -15.21     37.51        72          20   \n",
       "3       Kaitangata    -46.28     169.85     48.00        85          98   \n",
       "4         Souillac    -20.52      57.52     75.20        73          20   \n",
       "\n",
       "   Wind Speed Country                Date  \n",
       "0       14.99      ZA 2020-10-20 17:40:18  \n",
       "1        6.93      UZ 2020-10-20 17:39:09  \n",
       "2        4.23      IS 2020-10-20 17:40:23  \n",
       "3        1.99      NZ 2020-10-20 17:35:53  \n",
       "4       11.41      MU 2020-10-20 17:40:23  "
      ]
     },
     "execution_count": 11,
     "metadata": {},
     "output_type": "execute_result"
    }
   ],
   "source": [
    "#Date Convert!\n",
    "from datetime import datetime\n",
    "\n",
    "#d = datetime.utcfromtimestamp(1602900138)\n",
    "#print(d)\n",
    "\n",
    "cities_df['Date'] = pd.to_datetime(cities_df['Date'],unit='s')\n",
    "cities_df.head()"
   ]
  },
  {
   "cell_type": "markdown",
   "metadata": {},
   "source": [
    "## Plotting the Data\n",
    "* Use proper labeling of the plots using plot titles (including date of analysis) and axes labels.\n",
    "* Save the plotted figures as .pngs."
   ]
  },
  {
   "cell_type": "markdown",
   "metadata": {},
   "source": [
    "### Latitude vs. Temperature Plot"
   ]
  },
  {
   "cell_type": "code",
   "execution_count": 12,
   "metadata": {
    "scrolled": true
   },
   "outputs": [
    {
     "data": {
      "image/png": "[encoded data removed]",
      "text/plain": [
       "<Figure size 432x288 with 1 Axes>"
      ]
     },
     "metadata": {
      "needs_background": "light"
     },
     "output_type": "display_data"
    }
   ],
   "source": [
    "plt.scatter(cities_df[\"Latitude\"],cities_df[\"Max Temp\"])\n",
    "plt.xlabel('Latitude')\n",
    "plt.ylabel('Max Temperature (F)')\n",
    "plt.title(\"City Latitude vs. Temperature (F) 10/17/2020\")\n",
    "plt.grid()\n",
    "\n",
    "plt.savefig('../output_data/lat_temp.png')\n",
    "plt.show()\n"
   ]
  },
  {
   "cell_type": "markdown",
   "metadata": {},
   "source": [
    "I then used the `py.plt` function to show my data in scatter plots below. \n",
    "\n",
    "Within my data set of 575 random cities all over the world, there is a correlation between the city’s Latitude with the temperature. As the city becomes closer to the equator (latitude of 0°) the temperature increases. As the city locations move farther away from the equator, the temperature decreases. My data set has more data for the Northern Hemisphere and the coldest max temperatures can be found at a latitude location of 80°. \n"
   ]
  },
  {
   "cell_type": "markdown",
   "metadata": {},
   "source": [
    "City Latitude vs. Temperature (F) 10/17/2020 - used pyplot to make scatter plit. Temp is lower the farther from eqauter. "
   ]
  },
  {
   "cell_type": "markdown",
   "metadata": {},
   "source": [
    "### Latitude vs. Humidity Plot"
   ]
  },
  {
   "cell_type": "code",
   "execution_count": 13,
   "metadata": {},
   "outputs": [
    {
     "data": {
      "image/png": "[encoded data removed]",
      "text/plain": [
       "<Figure size 432x288 with 1 Axes>"
      ]
     },
     "metadata": {
      "needs_background": "light"
     },
     "output_type": "display_data"
    }
   ],
   "source": [
    "plt.scatter(cities_df[\"Latitude\"],cities_df[\"Humidity\"])\n",
    "plt.xlabel('Latitude')\n",
    "plt.ylabel('Humidity (%)')\n",
    "plt.title(\"City Latitude vs. Humidity 10/17/2020\")\n",
    "plt.grid()\n",
    "\n",
    "plt.savefig('../output_data/humidity.png')\n",
    "plt.show()\n"
   ]
  },
  {
   "cell_type": "markdown",
   "metadata": {},
   "source": [
    "Although humidity can be high at all Latitude locations, at the equator it is consistently high and there is no data to suggest low humidity near 0° latitude. "
   ]
  },
  {
   "cell_type": "markdown",
   "metadata": {},
   "source": [
    "### Latitude vs. Cloudiness Plot"
   ]
  },
  {
   "cell_type": "code",
   "execution_count": 14,
   "metadata": {},
   "outputs": [
    {
     "data": {
      "image/png": "[encoded data removed]",
      "text/plain": [
       "<Figure size 432x288 with 1 Axes>"
      ]
     },
     "metadata": {
      "needs_background": "light"
     },
     "output_type": "display_data"
    }
   ],
   "source": [
    "plt.scatter(cities_df[\"Latitude\"],cities_df[\"Cloudiness\"])\n",
    "plt.xlabel('Latitude')\n",
    "plt.ylabel('Cloudiness (%)')\n",
    "plt.title(\"City Latitude vs. Cloudiness 10/17/2020\")\n",
    "plt.grid()\n",
    "\n",
    "plt.savefig('../output_data/cloudiness.png')\n",
    "plt.show()\n"
   ]
  },
  {
   "cell_type": "markdown",
   "metadata": {},
   "source": [
    "There appears to be no real correlation to of Cloudiness to latitude accept that at the equator, like humidity, there appears to always be a percent of cloud formation."
   ]
  },
  {
   "cell_type": "markdown",
   "metadata": {},
   "source": [
    "### Latitude vs. Wind Speed Plot"
   ]
  },
  {
   "cell_type": "code",
   "execution_count": 15,
   "metadata": {},
   "outputs": [
    {
     "data": {
      "image/png": "[encoded data removed]",
      "text/plain": [
       "<Figure size 432x288 with 1 Axes>"
      ]
     },
     "metadata": {
      "needs_background": "light"
     },
     "output_type": "display_data"
    }
   ],
   "source": [
    "plt.scatter(cities_df[\"Latitude\"],cities_df[\"Wind Speed\"])\n",
    "plt.xlabel('Latitude')\n",
    "plt.ylabel('Wind Speed (mph)')\n",
    "plt.title(\"City Latitude vs. Wind Speed 10/17/2020\")\n",
    "plt.grid()\n",
    "\n",
    "plt.savefig('../output_data/wind_speed.png')\n",
    "plt.show()\n"
   ]
  },
  {
   "cell_type": "markdown",
   "metadata": {},
   "source": [
    "There is no correlation between wind speed and latitude. There are some outlying data points in the upper norther hemisphere. "
   ]
  },
  {
   "cell_type": "markdown",
   "metadata": {},
   "source": [
    "## Linear Regression"
   ]
  },
  {
   "cell_type": "markdown",
   "metadata": {},
   "source": [
    "### Write linear regression plot function (optional)"
   ]
  },
  {
   "cell_type": "code",
   "execution_count": null,
   "metadata": {},
   "outputs": [],
   "source": [
    "# #x_values = (cities_df[])\n",
    "# #y_values = (cities_df[])\n",
    "\n",
    "# (slope, intercept, rvalue, pvalue, stderr) = linregress(x_values, y_values)\n",
    "# regress_values = x_values * slope + intercept\n",
    "# line_eq = \"y = \" + str(round(slope,2)) + \"x + \" + str(round(intercept,2))\n",
    "# plt.scatter(x_values,y_values)\n",
    "# plt.plot(x_values,regress_values,\"r-\")\n",
    "# # plt.annotate(line_eq,(20,36),fontsize=15,color=\"red\")\n",
    "# # plt.xlabel(\"\")\n",
    "# # plt.ylabel(\"\")\n",
    "# # plt.title(\"\")\n",
    "\n",
    "# plt.show()"
   ]
  },
  {
   "cell_type": "markdown",
   "metadata": {},
   "source": [
    "When reviewing the data by hemisphere, the same correlations can be seen as above. On these plots I have illustrated the results further with line regression as well as the equation of the line. To calculate line regression and line equation, I used the following code: \n",
    "\n",
    "`(slope, intercept, rvalue, pvalue, stderr) = linregress(x_values, y_values)`\n",
    "\n",
    "`regress_values = x_values * slope + intercept`\n",
    "\n",
    "`line_eq = \"y = \" + str(round(slope,2)) + \"x + \" + str(round(intercept,2)) ‘\n"
   ]
  },
  {
   "cell_type": "markdown",
   "metadata": {},
   "source": [
    "###  Northern Hemisphere - Max Temp vs. Latitude Linear Regression"
   ]
  },
  {
   "cell_type": "code",
   "execution_count": 16,
   "metadata": {},
   "outputs": [
    {
     "name": "stdout",
     "output_type": "stream",
     "text": [
      "The r value is: -0.8878719377946399\n"
     ]
    },
    {
     "data": {
      "image/png": "[encoded data removed]",
      "text/plain": [
       "<Figure size 432x288 with 1 Axes>"
      ]
     },
     "metadata": {
      "needs_background": "light"
     },
     "output_type": "display_data"
    }
   ],
   "source": [
    "north_lat = cities_df.loc[(cities_df['Latitude'] > 0)]\n",
    "#north_lat.head()\n",
    "\n",
    "\n",
    "x_values = (north_lat[\"Latitude\"])\n",
    "y_values = (north_lat[\"Max Temp\"])\n",
    "\n",
    "(slope, intercept, rvalue, pvalue, stderr) = linregress(x_values, y_values)\n",
    "regress_values = x_values * slope + intercept\n",
    "line_eq = \"y = \" + str(round(slope,2)) + \"x + \" + str(round(intercept,2))\n",
    "plt.scatter(x_values,y_values)\n",
    "plt.plot(x_values,regress_values,\"r-\")\n",
    "\n",
    "plt.annotate(line_eq,(5,5),fontsize=15,color=\"red\")\n",
    "plt.xlabel(\"Latitude\")\n",
    "plt.ylabel(\"Max Temperature (F)\")\n",
    "plt.title(\"Northern Hemisphere - Max Temp (F) vs. Latitude 10/17/2020\")\n",
    "\n",
    "plt.grid()\n",
    "plt.savefig('../output_data/north_lat_temp.png')\n",
    "print(f\"The r value is: {rvalue}\")\n",
    "plt.show()\n",
    "\n"
   ]
  },
  {
   "cell_type": "markdown",
   "metadata": {},
   "source": [
    "###  Southern Hemisphere - Max Temp vs. Latitude Linear Regression"
   ]
  },
  {
   "cell_type": "code",
   "execution_count": 17,
   "metadata": {},
   "outputs": [
    {
     "name": "stdout",
     "output_type": "stream",
     "text": [
      "The r value is: 0.7722571859254783\n"
     ]
    },
    {
     "data": {
      "image/png": "[encoded data removed]",
      "text/plain": [
       "<Figure size 432x288 with 1 Axes>"
      ]
     },
     "metadata": {
      "needs_background": "light"
     },
     "output_type": "display_data"
    }
   ],
   "source": [
    "south_lat = cities_df.loc[(cities_df['Latitude'] < 0)]\n",
    "#south_lat.head()\n",
    "\n",
    "\n",
    "x_values = (south_lat[\"Latitude\"])\n",
    "y_values = (south_lat[\"Max Temp\"])\n",
    "\n",
    "(slope, intercept, rvalue, pvalue, stderr) = linregress(x_values, y_values)\n",
    "regress_values = x_values * slope + intercept\n",
    "line_eq = \"y = \" + str(round(slope,2)) + \"x + \" + str(round(intercept,2))\n",
    "plt.scatter(x_values,y_values)\n",
    "plt.plot(x_values,regress_values,\"r-\")\n",
    "\n",
    "plt.annotate(line_eq,(-55,91),fontsize=15,color=\"red\")\n",
    "plt.xlabel(\"Latitude\")\n",
    "plt.ylabel(\"Max Temperature (F)\")\n",
    "plt.title(\"Southern Hemisphere - Max Temp (F) vs. Latitude 10/17/2020\")\n",
    "\n",
    "plt.grid()\n",
    "plt.savefig('../output_data/south_lat_temp.png')\n",
    "print(f\"The r value is: {rvalue}\")\n",
    "plt.show()\n",
    "\n"
   ]
  },
  {
   "cell_type": "markdown",
   "metadata": {},
   "source": [
    "In the Northern Hemisphere and Southern Hemisphere, there is a direct correlation of temperature increase as you get closer to the equator, latitude 0°. These scatter plots show a negative line regression in the Northern Hemisphere and a positive line regression in the Southern Hemisphere. "
   ]
  },
  {
   "cell_type": "markdown",
   "metadata": {},
   "source": [
    "###  Northern Hemisphere - Humidity (%) vs. Latitude Linear Regression"
   ]
  },
  {
   "cell_type": "code",
   "execution_count": 18,
   "metadata": {},
   "outputs": [
    {
     "name": "stdout",
     "output_type": "stream",
     "text": [
      "The r value is: 0.3071282379074264\n"
     ]
    },
    {
     "data": {
      "image/png": "[encoded data removed]",
      "text/plain": [
       "<Figure size 432x288 with 1 Axes>"
      ]
     },
     "metadata": {
      "needs_background": "light"
     },
     "output_type": "display_data"
    }
   ],
   "source": [
    "x_values = (north_lat[\"Latitude\"])\n",
    "y_values = (north_lat[\"Humidity\"])\n",
    "\n",
    "(slope, intercept, rvalue, pvalue, stderr) = linregress(x_values, y_values)\n",
    "regress_values = x_values * slope + intercept\n",
    "line_eq = \"y = \" + str(round(slope,2)) + \"x + \" + str(round(intercept,2))\n",
    "plt.scatter(x_values,y_values)\n",
    "plt.plot(x_values,regress_values,\"r-\")\n",
    "\n",
    "plt.annotate(line_eq,(45,21),fontsize=15,color=\"red\")\n",
    "plt.xlabel(\"Latitude\")\n",
    "plt.ylabel(\"Humidity (%)\")\n",
    "plt.title(\"Northern Hemisphere - Humidity (%) vs. Latitude 10/17/2020\")\n",
    "\n",
    "plt.grid()\n",
    "plt.savefig('../output_data/north_humidity.png')\n",
    "print(f\"The r value is: {rvalue}\")\n",
    "plt.show()\n",
    "\n"
   ]
  },
  {
   "cell_type": "markdown",
   "metadata": {},
   "source": [
    "Humidity percentage has a positive line regression in both the Northern and Southern Hemisphere. These plots also illustrate that there is only High Humidity percentage at 0° latitude."
   ]
  },
  {
   "cell_type": "markdown",
   "metadata": {},
   "source": [
    "###  Southern Hemisphere - Humidity (%) vs. Latitude Linear Regression"
   ]
  },
  {
   "cell_type": "code",
   "execution_count": 19,
   "metadata": {},
   "outputs": [
    {
     "name": "stdout",
     "output_type": "stream",
     "text": [
      "The r value is: -0.060624104354439885\n"
     ]
    },
    {
     "data": {
      "image/png": "[encoded data removed]",
      "text/plain": [
       "<Figure size 432x288 with 1 Axes>"
      ]
     },
     "metadata": {
      "needs_background": "light"
     },
     "output_type": "display_data"
    }
   ],
   "source": [
    "x_values = (south_lat[\"Latitude\"])\n",
    "y_values = (south_lat[\"Humidity\"])\n",
    "\n",
    "(slope, intercept, rvalue, pvalue, stderr) = linregress(x_values, y_values)\n",
    "regress_values = x_values * slope + intercept\n",
    "line_eq = \"y = \" + str(round(slope,2)) + \"x + \" + str(round(intercept,2))\n",
    "plt.scatter(x_values,y_values)\n",
    "plt.plot(x_values,regress_values,\"r-\")\n",
    "\n",
    "plt.annotate(line_eq,(-55,21),fontsize=15,color=\"red\")\n",
    "plt.xlabel(\"Latitude\")\n",
    "plt.ylabel(\"Humidity (%)\")\n",
    "plt.title(\"Southern Hemisphere - Humidity (%) vs. Latitude 10/17/2020\")\n",
    "\n",
    "plt.grid()\n",
    "plt.savefig('../output_data/south_humidity.png')\n",
    "print(f\"The r value is: {rvalue}\")\n",
    "plt.show()\n",
    "\n"
   ]
  },
  {
   "cell_type": "markdown",
   "metadata": {},
   "source": [
    "###  Northern Hemisphere - Cloudiness (%) vs. Latitude Linear Regression"
   ]
  },
  {
   "cell_type": "code",
   "execution_count": 20,
   "metadata": {},
   "outputs": [
    {
     "name": "stdout",
     "output_type": "stream",
     "text": [
      "The r value is: 0.3167219511712813\n"
     ]
    },
    {
     "data": {
      "image/png": "[encoded data removed]",
      "text/plain": [
       "<Figure size 432x288 with 1 Axes>"
      ]
     },
     "metadata": {
      "needs_background": "light"
     },
     "output_type": "display_data"
    }
   ],
   "source": [
    "x_values = (north_lat[\"Latitude\"])\n",
    "y_values = (north_lat[\"Cloudiness\"])\n",
    "\n",
    "(slope, intercept, rvalue, pvalue, stderr) = linregress(x_values, y_values)\n",
    "regress_values = x_values * slope + intercept\n",
    "line_eq = \"y = \" + str(round(slope,2)) + \"x + \" + str(round(intercept,2))\n",
    "plt.scatter(x_values,y_values)\n",
    "plt.plot(x_values,regress_values,\"r-\")\n",
    "\n",
    "plt.annotate(line_eq,(24,7),fontsize=15,color=\"red\")\n",
    "plt.xlabel(\"Latitude\")\n",
    "plt.ylabel(\"Cloudiness (%)\")\n",
    "plt.title(\"Northern Hemisphere - Cloudiness (%) vs. Latitude 10/17/2020\")\n",
    "\n",
    "plt.grid()\n",
    "plt.savefig('../output_data/north_cloudiness.png')\n",
    "print(f\"The r value is: {rvalue}\")\n",
    "plt.show()\n",
    "\n"
   ]
  },
  {
   "cell_type": "markdown",
   "metadata": {},
   "source": [
    "Although the line regression value is greater in the Northern Hemisphere, there is no visible correlation between latitude and cloudiness in the Northern Hemisphere and the southern Hemisphere. "
   ]
  },
  {
   "cell_type": "markdown",
   "metadata": {},
   "source": [
    "###  Southern Hemisphere - Cloudiness (%) vs. Latitude Linear Regression"
   ]
  },
  {
   "cell_type": "code",
   "execution_count": 21,
   "metadata": {},
   "outputs": [
    {
     "name": "stdout",
     "output_type": "stream",
     "text": [
      "The r value is: 0.16438967545178051\n"
     ]
    },
    {
     "data": {
      "image/png": "[encoded data removed]",
      "text/plain": [
       "<Figure size 432x288 with 1 Axes>"
      ]
     },
     "metadata": {
      "needs_background": "light"
     },
     "output_type": "display_data"
    }
   ],
   "source": [
    "x_values = (south_lat[\"Latitude\"])\n",
    "y_values = (south_lat[\"Cloudiness\"])\n",
    "\n",
    "(slope, intercept, rvalue, pvalue, stderr) = linregress(x_values, y_values)\n",
    "regress_values = x_values * slope + intercept\n",
    "line_eq = \"y = \" + str(round(slope,2)) + \"x + \" + str(round(intercept,2))\n",
    "plt.scatter(x_values,y_values)\n",
    "plt.plot(x_values,regress_values,\"r-\")\n",
    "\n",
    "plt.annotate(line_eq,(-55,60),fontsize=15,color=\"red\")\n",
    "plt.xlabel(\"Latitude\")\n",
    "plt.ylabel(\"Cloudiness (%)\")\n",
    "plt.title(\"Southern Hemisphere - Cloudiness (%) vs. Latitude 10/17/2020\")\n",
    "\n",
    "plt.grid\n",
    "plt.savefig('../output_data/south_cloudiness.png')\n",
    "print(f\"The r value is: {rvalue}\")\n",
    "plt.show()\n"
   ]
  },
  {
   "cell_type": "markdown",
   "metadata": {},
   "source": [
    "###  Northern Hemisphere - Wind Speed (mph) vs. Latitude Linear Regression"
   ]
  },
  {
   "cell_type": "code",
   "execution_count": 22,
   "metadata": {},
   "outputs": [
    {
     "name": "stdout",
     "output_type": "stream",
     "text": [
      "The r value is: 0.05828245665218739\n"
     ]
    },
    {
     "data": {
      "image/png": "[encoded data removed]",
      "text/plain": [
       "<Figure size 432x288 with 1 Axes>"
      ]
     },
     "metadata": {
      "needs_background": "light"
     },
     "output_type": "display_data"
    }
   ],
   "source": [
    "x_values = (north_lat[\"Latitude\"])\n",
    "y_values = (north_lat[\"Wind Speed\"])\n",
    "\n",
    "(slope, intercept, rvalue, pvalue, stderr) = linregress(x_values, y_values)\n",
    "regress_values = x_values * slope + intercept\n",
    "line_eq = \"y = \" + str(round(slope,2)) + \"x + \" + str(round(intercept,2))\n",
    "plt.scatter(x_values,y_values)\n",
    "plt.plot(x_values,regress_values,\"r-\")\n",
    "\n",
    "plt.annotate(line_eq,(10,31),fontsize=15,color=\"red\")\n",
    "plt.xlabel(\"Latitude\")\n",
    "plt.ylabel(\"Wind Speed (mph)\")\n",
    "plt.title(\"Northern Hemisphere - Wind Speed (mph) vs. Latitude 10/17/2020\")\n",
    "\n",
    "plt.grid()\n",
    "plt.savefig('../output_data/north_wind.png')\n",
    "print(f\"The r value is: {rvalue}\")\n",
    "plt.show()\n"
   ]
  },
  {
   "cell_type": "markdown",
   "metadata": {},
   "source": [
    "There is no correlation between wind speed and latitude location. There is a positive line regression in the Northern Hemisphere and a negative line regression in the Southern Hemisphere. "
   ]
  },
  {
   "cell_type": "markdown",
   "metadata": {},
   "source": [
    "###  Southern Hemisphere - Wind Speed (mph) vs. Latitude Linear Regression"
   ]
  },
  {
   "cell_type": "code",
   "execution_count": 23,
   "metadata": {},
   "outputs": [
    {
     "name": "stdout",
     "output_type": "stream",
     "text": [
      "The r value is: -0.07578846871461868\n"
     ]
    },
    {
     "data": {
      "image/png": "[encoded data removed]",
      "text/plain": [
       "<Figure size 432x288 with 1 Axes>"
      ]
     },
     "metadata": {
      "needs_background": "light"
     },
     "output_type": "display_data"
    }
   ],
   "source": [
    "x_values = (south_lat[\"Latitude\"])\n",
    "y_values = (south_lat[\"Wind Speed\"])\n",
    "\n",
    "(slope, intercept, rvalue, pvalue, stderr) = linregress(x_values, y_values)\n",
    "regress_values = x_values * slope + intercept\n",
    "line_eq = \"y = \" + str(round(slope,2)) + \"x + \" + str(round(intercept,2))\n",
    "plt.scatter(x_values,y_values)\n",
    "plt.plot(x_values,regress_values,\"r-\")\n",
    "\n",
    "plt.annotate(line_eq,(-40,18),fontsize=15,color=\"red\")\n",
    "plt.xlabel(\"Latitude\")\n",
    "plt.ylabel(\"Wind Speed (mph)\")\n",
    "plt.title(\"Southern Hemisphere - Wind Speed (mph) vs. Latitude 10/17/2020\")\n",
    "\n",
    "plt.grid()\n",
    "plt.savefig('../output_data/south_wind.png')\n",
    "print(f\"The r value is: {rvalue}\")\n",
    "plt.show()\n",
    "\n"
   ]
  },
  {
   "cell_type": "markdown",
   "metadata": {},
   "source": [
    "In conclusion, there is a correlation of weather trends as you get closer and farther away from the equator.  The weather is warmer and more humid the closer you are to the equator. There is not a noticeable correlation between wind speed and cloudiness as you move closer and farther from the equator. The results from the Northern and Southern Hemisphere illustrate the same conclusions. "
   ]
  },
  {
   "cell_type": "code",
   "execution_count": null,
   "metadata": {},
   "outputs": [],
   "source": []
  }
 ],
 "metadata": {
  "anaconda-cloud": {},
  "kernel_info": {
   "name": "python3"
  },
  "kernelspec": {
   "display_name": "Python 3",
   "language": "python",
   "name": "python3"
  },
  "language_info": {
   "codemirror_mode": {
    "name": "ipython",
    "version": 3
   },
   "file_extension": ".py",
   "mimetype": "text/x-python",
   "name": "python",
   "nbconvert_exporter": "python",
   "pygments_lexer": "ipython3",
   "version": "3.7.6"
  },
  "latex_envs": {
   "LaTeX_envs_menu_present": true,
   "autoclose": false,
   "autocomplete": true,
   "bibliofile": "biblio.bib",
   "cite_by": "apalike",
   "current_citInitial": 1,
   "eqLabelWithNumbers": true,
   "eqNumInitial": 1,
   "hotkeys": {
    "equation": "Ctrl-E",
    "itemize": "Ctrl-I"
   },
   "labels_anchors": false,
   "latex_user_defs": false,
   "report_style_numbering": false,
   "user_envs_cfg": false
  },
  "nteract": {
   "version": "0.12.3"
  },
  "toc": {
   "base_numbering": 1,
   "nav_menu": {},
   "number_sections": true,
   "sideBar": true,
   "skip_h1_title": false,
   "title_cell": "Table of Contents",
   "title_sidebar": "Contents",
   "toc_cell": false,
   "toc_position": {},
   "toc_section_display": true,
   "toc_window_display": false
  },
  "varInspector": {
   "cols": {
    "lenName": 16,
    "lenType": 16,
    "lenVar": 40
   },
   "kernels_config": {
    "python": {
     "delete_cmd_postfix": "",
     "delete_cmd_prefix": "del ",
     "library": "var_list.py",
     "varRefreshCmd": "print(var_dic_list())"
    },
    "r": {
     "delete_cmd_postfix": ") ",
     "delete_cmd_prefix": "rm(",
     "library": "var_list.r",
     "varRefreshCmd": "cat(var_dic_list()) "
    }
   },
   "types_to_exclude": [
    "module",
    "function",
    "builtin_function_or_method",
    "instance",
    "_Feature"
   ],
   "window_display": false
  }
 },
 "nbformat": 4,
 "nbformat_minor": 2
}
