{
 "cells": [
  {
   "cell_type": "markdown",
   "metadata": {},
   "source": [
    "# WeatherPy\n",
    "----\n",
    "\n",
    "#### Note\n",
    "* Instructions have been included for each segment. You do not have to follow them exactly, but they are included to help you think through the steps."
   ]
  },
  {
   "cell_type": "code",
   "execution_count": 76,
   "metadata": {
    "scrolled": true
   },
   "outputs": [],
   "source": [
    "# Dependencies and Setup\n",
    "import matplotlib.pyplot as plt\n",
    "import pandas as pd\n",
    "import numpy as np\n",
    "import requests\n",
    "import time\n",
    "from scipy.stats import linregress\n",
    "from datetime import datetime\n",
    "from matplotlib import pyplot as plt\n",
    "\n",
    "# Import API key\n",
    "from api_keys import weather_api_key\n",
    "\n",
    "\n",
    "# Incorporated citipy to determine city based on latitude and longitude\n",
    "from citipy import citipy\n",
    "\n",
    "# Output File (CSV)\n",
    "output_data_file = \"../output_data/cities.csv\"\n",
    "\n",
    "# Range of latitudes and longitudes\n",
    "lat_range = (-90, 90)\n",
    "lng_range = (-180, 180)\n"
   ]
  },
  {
   "cell_type": "markdown",
   "metadata": {},
   "source": [
    "## Generate Cities List"
   ]
  },
  {
   "cell_type": "code",
   "execution_count": 44,
   "metadata": {},
   "outputs": [
    {
     "data": {
      "text/plain": [
       "618"
      ]
     },
     "execution_count": 44,
     "metadata": {},
     "output_type": "execute_result"
    }
   ],
   "source": [
    "# List for holding lat_lngs and cities\n",
    "lat_lngs = []\n",
    "cities = []\n",
    "\n",
    "# Create a set of random lat and lng combinations\n",
    "lats = np.random.uniform(lat_range[0], lat_range[1], size=1500)\n",
    "lngs = np.random.uniform(lng_range[0], lng_range[1], size=1500)\n",
    "lat_lngs = zip(lats, lngs)\n",
    "\n",
    "# Identify nearest city for each lat, lng combination\n",
    "for lat_lng in lat_lngs:\n",
    "    city = citipy.nearest_city(lat_lng[0], lat_lng[1]).city_name\n",
    "    \n",
    "    # If the city is unique, then add it to a our cities list\n",
    "    if city not in cities:\n",
    "        cities.append(city)\n",
    "\n",
    "# Print the city count to confirm sufficient count\n",
    "len(cities)\n"
   ]
  },
  {
   "cell_type": "markdown",
   "metadata": {},
   "source": [
    "## Perform API Calls\n",
    "* Perform a weather check on each city using a series of successive API calls.\n",
    "* Include a print log of each city as it'sbeing processed (with the city number and city name).\n"
   ]
  },
  {
   "cell_type": "code",
   "execution_count": 56,
   "metadata": {},
   "outputs": [],
   "source": [
    "url = \"http://api.openweathermap.org/data/2.5/weather?\"\n",
    "units = \"imperial\"\n",
    "\n",
    "# Build partial query URL\n",
    "query_url = f\"{url}appid={weather_api_key}&units={units}&q=\"\n",
    "#print(query_url)"
   ]
  },
  {
   "cell_type": "code",
   "execution_count": 57,
   "metadata": {
    "scrolled": true
   },
   "outputs": [
    {
     "name": "stdout",
     "output_type": "stream",
     "text": [
      "recorded 1: kapaa\n",
      "recorded 2: okhotsk\n",
      "recorded 3: hambantota\n",
      "recorded 4: arraial do cabo\n",
      "recorded 5: qeshm\n",
      "recorded 6: ghanzi\n",
      "recorded 7: tuktoyaktuk\n",
      "recorded 8: sumbe\n",
      "recorded 9: vaini\n",
      "recorded 10: ribeira grande\n",
      "recorded 11: nha trang\n",
      "recorded 12: yellowknife\n",
      "recorded 13: torbay\n",
      "recorded 14: kalianget\n",
      "recorded 15: chuy\n",
      "recorded 16: mar del plata\n",
      "recorded 17: coquimbo\n",
      "recorded 18: khatanga\n",
      "recorded 19: ushuaia\n",
      "recorded 20: mataura\n",
      "recorded 21: nikolskoye\n",
      "recorded 22: dikson\n",
      "recorded 23: sao jose da coroa grande\n",
      "recorded 24: tuatapere\n",
      "recorded 25: hobart\n",
      "recorded 26: muros\n",
      "recorded 27: kibala\n",
      "recorded 28: sampit\n",
      "taolanaro city not found\n",
      "recorded 29: talnakh\n",
      "recorded 30: punta arenas\n",
      "recorded 31: rikitea\n",
      "recorded 32: krasnyy chikoy\n",
      "recorded 33: berlevag\n",
      "recorded 34: tulun\n",
      "recorded 35: polyarnyy\n",
      "recorded 36: hermanus\n",
      "recorded 37: puerto ayora\n",
      "recorded 38: butaritari\n",
      "recorded 39: albany\n",
      "recorded 40: bluff\n",
      "recorded 41: yerkoy\n",
      "recorded 42: darbhanga\n",
      "recorded 43: jinchang\n",
      "recorded 44: lazaro cardenas\n",
      "recorded 45: barrow\n",
      "recorded 46: saskylakh\n",
      "recorded 47: lanxi\n",
      "recorded 48: noumea\n",
      "recorded 49: slobodskoy\n",
      "recorded 50: santa maria\n",
      "recorded 51: riyadh\n",
      "recorded 52: provideniya\n",
      "recorded 53: qaanaaq\n",
      "recorded 54: puerto leguizamo\n",
      "recorded 55: laguna\n",
      "recorded 56: wanaka\n",
      "recorded 57: comodoro rivadavia\n",
      "amderma city not found\n",
      "recorded 58: bozuyuk\n",
      "recorded 59: kochevo\n",
      "matto city not found\n",
      "recorded 60: saint-augustin\n",
      "recorded 61: saldanha\n",
      "recorded 62: flinders\n",
      "recorded 63: hobyo\n",
      "recorded 64: esperance\n",
      "recorded 65: port alfred\n",
      "recorded 66: airai\n",
      "recorded 67: souillac\n",
      "recorded 68: cape town\n",
      "recorded 69: inuvik\n",
      "recorded 70: honningsvag\n",
      "recorded 71: avarua\n",
      "recorded 72: mehamn\n",
      "recorded 73: ilulissat\n",
      "recorded 74: padang\n",
      "recorded 75: vanimo\n",
      "recorded 76: castro\n",
      "recorded 77: cidreira\n",
      "barentsburg city not found\n",
      "recorded 78: novikovo\n",
      "recorded 79: clyde river\n",
      "recorded 80: thompson\n",
      "recorded 81: guerrero negro\n",
      "recorded 82: yambio\n",
      "recorded 83: kumluca\n",
      "recorded 84: aksum\n",
      "recorded 85: porto novo\n",
      "recorded 86: tocopilla\n",
      "recorded 87: ngunguru\n",
      "recorded 88: chapais\n",
      "recorded 89: norman wells\n",
      "recorded 90: bethel\n",
      "recorded 91: busselton\n",
      "recorded 92: saint-medard-en-jalles\n",
      "recorded 93: san patricio\n",
      "yomitan city not found\n",
      "recorded 94: chanthaburi\n",
      "recorded 95: killybegs\n",
      "recorded 96: fortuna\n",
      "recorded 97: new norfolk\n",
      "recorded 98: sorland\n",
      "recorded 99: quelimane\n",
      "recorded 100: saint-paul\n",
      "recorded 101: qaqortoq\n",
      "recorded 102: cabedelo\n",
      "recorded 103: shakiso\n",
      "recorded 104: east london\n",
      "recorded 105: bandarbeyla\n",
      "recorded 106: bredasdorp\n",
      "recorded 107: pangnirtung\n",
      "recorded 108: bianzhuang\n",
      "recorded 109: vanavara\n",
      "recorded 110: longyearbyen\n",
      "recorded 111: upernavik\n",
      "recorded 112: kaitangata\n",
      "recorded 113: urengoy\n",
      "recorded 114: port blair\n",
      "recorded 115: vanderhoof\n",
      "recorded 116: katsuura\n",
      "recorded 117: lgov\n",
      "recorded 118: shache\n",
      "gilgil city not found\n",
      "recorded 119: cacequi\n",
      "recorded 120: neiafu\n",
      "recorded 121: nouadhibou\n",
      "recorded 122: synya\n",
      "recorded 123: chokurdakh\n",
      "recorded 124: scottsbluff\n",
      "recorded 125: te anau\n",
      "recorded 126: bulgan\n",
      "recorded 127: georgetown\n",
      "recorded 128: hilo\n",
      "recorded 129: zeya\n",
      "karakendzha city not found\n",
      "recorded 130: tevaitoa\n",
      "recorded 131: alyangula\n",
      "recorded 132: tarauaca\n",
      "recorded 133: callaway\n",
      "recorded 134: cherskiy\n",
      "recorded 135: sefophe\n",
      "recorded 136: lhokseumawe\n",
      "recorded 137: ola\n",
      "recorded 138: hare bay\n",
      "recorded 139: sitka\n",
      "recorded 140: hirara\n",
      "recorded 141: iskitim\n",
      "recorded 142: ecoporanga\n",
      "recorded 143: san vicente\n",
      "recorded 144: nyrob\n",
      "recorded 145: ferme-neuve\n",
      "recorded 146: kosterevo\n",
      "recorded 147: wahiawa\n",
      "recorded 148: san felipe\n",
      "recorded 149: kinsale\n",
      "recorded 150: meulaboh\n",
      "recorded 151: qingdao\n",
      "recorded 152: kodiak\n",
      "recorded 153: alofi\n",
      "recorded 154: kaohsiung\n",
      "recorded 155: jamestown\n",
      "recorded 156: gat\n",
      "recorded 157: shetpe\n",
      "recorded 158: adrar\n",
      "recorded 159: carnarvon\n",
      "recorded 160: lebu\n",
      "recorded 161: grand gaube\n",
      "recorded 162: praia da vitoria\n",
      "recorded 163: husavik\n",
      "recorded 164: dunedin\n",
      "recorded 165: najran\n",
      "recorded 166: fairbanks\n",
      "recorded 167: mahebourg\n",
      "recorded 168: mazamari\n",
      "recorded 169: kaili\n",
      "recorded 170: umm lajj\n",
      "recorded 171: nioro\n",
      "recorded 172: svetlaya\n",
      "recorded 173: isla mujeres\n",
      "recorded 174: segou\n",
      "recorded 175: schwerin\n",
      "recorded 176: mount pleasant\n",
      "recorded 177: isabela\n",
      "recorded 178: mayumba\n",
      "recorded 179: kungurtug\n",
      "recorded 180: manta\n",
      "recorded 181: dingle\n",
      "recorded 182: lokoja\n",
      "recorded 183: sabzevar\n",
      "recorded 184: bogandinskiy\n",
      "recorded 185: tiznit\n",
      "recorded 186: cabo san lucas\n",
      "recorded 187: narsaq\n",
      "belushya guba city not found\n",
      "recorded 188: erenhot\n",
      "saleaula city not found\n",
      "recorded 189: lasa\n",
      "recorded 190: bengkulu\n",
      "recorded 191: labuhan\n",
      "recorded 192: xingyi\n",
      "recorded 193: seoul\n",
      "recorded 194: belmonte\n",
      "recorded 195: perelyub\n",
      "recorded 196: eregli\n",
      "recorded 197: rio grande\n",
      "recorded 198: melfi\n",
      "recorded 199: cascais\n",
      "recorded 200: salalah\n",
      "recorded 201: de-kastri\n",
      "recorded 202: zabol\n",
      "recorded 203: oktyabrskoye\n",
      "recorded 204: severo-kurilsk\n",
      "attawapiskat city not found\n",
      "doctor pedro p. pena city not found\n",
      "recorded 205: pevek\n",
      "recorded 206: tautira\n",
      "recorded 207: kiama\n",
      "recorded 208: mitu\n",
      "recorded 209: victoria\n",
      "recorded 210: port macquarie\n",
      "recorded 211: ostrowiec swietokrzyski\n",
      "recorded 212: stokmarknes\n",
      "recorded 213: planeta rica\n",
      "recorded 214: jibuti\n",
      "recorded 215: north bend\n",
      "halalo city not found\n",
      "recorded 216: summerville\n",
      "recorded 217: kijang\n",
      "recorded 218: languyan\n",
      "recorded 219: beringovskiy\n",
      "recorded 220: ahipara\n",
      "tsihombe city not found\n",
      "recorded 221: brownwood\n",
      "recorded 222: ulaangom\n",
      "recorded 223: atuona\n",
      "recorded 224: punta alta\n",
      "recorded 225: hamilton\n",
      "recorded 226: gwanda\n",
      "recorded 227: sumkino\n",
      "recorded 228: tandil\n",
      "recorded 229: darhan\n",
      "recorded 230: saint-philippe\n",
      "recorded 231: lompoc\n",
      "recorded 232: poum\n",
      "recorded 233: tacna\n",
      "recorded 234: berdigestyakh\n",
      "recorded 235: madang\n",
      "recorded 236: bilma\n",
      "recorded 237: srednekolymsk\n",
      "recorded 238: ostersund\n",
      "recorded 239: tasiilaq\n",
      "recorded 240: saint anthony\n",
      "recorded 241: ixtapa\n",
      "recorded 242: beyneu\n",
      "recorded 243: kashi\n",
      "recorded 244: melville\n",
      "recorded 245: domoni\n",
      "recorded 246: sergeyevka\n",
      "naftah city not found\n",
      "illoqqortoormiut city not found\n",
      "recorded 247: gravdal\n",
      "recorded 248: tugulym\n",
      "recorded 249: hithadhoo\n",
      "recorded 250: ambilobe\n",
      "masandra city not found\n",
      "recorded 251: vila real de santo antonio\n",
      "recorded 252: hofn\n",
      "recorded 253: port hardy\n",
      "recorded 254: miyako\n",
      "recorded 255: orange\n",
      "recorded 256: ziro\n",
      "recorded 257: mayskiy\n",
      "recorded 258: banda aceh\n",
      "recorded 259: bilibino\n",
      "recorded 260: geraldton\n",
      "recorded 261: bathsheba\n",
      "recorded 262: hervey bay\n",
      "recorded 263: coihaique\n",
      "recorded 264: saint george\n",
      "recorded 265: lunsar\n",
      "recorded 266: maxixe\n",
      "recorded 267: coolum beach\n",
      "recorded 268: sept-iles\n",
      "recorded 269: luderitz\n",
      "recorded 270: odweyne\n",
      "recorded 271: kaeng khoi\n",
      "recorded 272: chabahar\n",
      "recorded 273: delta\n",
      "recorded 274: mitsamiouli\n",
      "recorded 275: dinar\n",
      "fevralsk city not found\n",
      "recorded 276: port stanley\n",
      "recorded 277: palmas bellas\n",
      "recorded 278: kangalassy\n",
      "recorded 279: faanui\n",
      "recorded 280: todos santos\n",
      "recorded 281: bambous virieux\n",
      "recorded 282: ponta do sol\n",
      "recorded 283: bonthe\n",
      "turtkul city not found\n",
      "recorded 284: flagstaff\n",
      "recorded 285: bonavista\n",
      "recorded 286: pisco\n",
      "recorded 287: codrington\n",
      "recorded 288: anadyr\n",
      "recorded 289: gamba\n",
      "recorded 290: trelew\n",
      "recorded 291: karaton\n",
      "recorded 292: dafeng\n",
      "alotau city not found\n",
      "recorded 293: nome\n",
      "recorded 294: le port\n",
      "recorded 295: yerofey pavlovich\n",
      "recorded 296: oktyabrskiy\n",
      "recorded 297: normal\n",
      "recorded 298: landerneau\n",
      "recorded 299: mae hong son\n",
      "recorded 300: taoudenni\n",
      "hihifo city not found\n",
      "recorded 301: cachoeiras de macacu\n",
      "recorded 302: atambua\n",
      "recorded 303: petropavlovsk-kamchatskiy\n",
      "recorded 304: rundu\n",
      "recorded 305: portland\n",
      "recorded 306: mingaora\n",
      "sentyabrskiy city not found\n",
      "recorded 307: lebork\n",
      "recorded 308: nishihara\n",
      "recorded 309: port hedland\n",
      "recorded 310: zhigansk\n",
      "recorded 311: okha\n",
      "recorded 312: ancud\n",
      "recorded 313: ardesen\n",
      "phun phin city not found\n",
      "recorded 314: arkul\n",
      "recorded 315: constitucion\n",
      "recorded 316: lorengau\n",
      "recorded 317: coahuayana\n",
      "recorded 318: kilindoni\n",
      "recorded 319: havoysund\n",
      "recorded 320: harrison\n",
      "recorded 321: bunbury\n",
      "recorded 322: winchester\n",
      "recorded 323: houma\n",
      "recorded 324: cayenne\n",
      "recorded 325: gold coast\n",
      "recorded 326: saint-pierre\n",
      "linchuan city not found\n",
      "recorded 327: ouro preto do oeste\n",
      "recorded 328: oxapampa\n",
      "one hundred mile house city not found\n",
      "recorded 329: kpandae\n",
      "recorded 330: coari\n",
      "recorded 331: vila velha\n",
      "recorded 332: pacific grove\n"
     ]
    },
    {
     "name": "stdout",
     "output_type": "stream",
     "text": [
      "recorded 333: hoshangabad\n",
      "recorded 334: aklavik\n",
      "lolua city not found\n",
      "recorded 335: nanakuli\n",
      "recorded 336: yenagoa\n",
      "recorded 337: sakakah\n",
      "recorded 338: sao filipe\n",
      "recorded 339: natal\n",
      "recorded 340: sucua\n",
      "samusu city not found\n",
      "recorded 341: manaure\n",
      "taburi city not found\n",
      "recorded 342: naze\n",
      "recorded 343: evensk\n",
      "recorded 344: alenquer\n",
      "recorded 345: mayo\n",
      "recorded 346: santiago del estero\n",
      "recorded 347: banamba\n",
      "recorded 348: aquidauana\n",
      "recorded 349: viransehir\n",
      "recorded 350: tiksi\n",
      "recorded 351: wilmington\n",
      "recorded 352: tura\n",
      "recorded 353: tanout\n",
      "recorded 354: belyy yar\n",
      "recorded 355: castro daire\n",
      "recorded 356: yar-sale\n",
      "khonuu city not found\n",
      "recorded 357: kavaratti\n",
      "higuey city not found\n",
      "recorded 358: antofagasta\n",
      "recorded 359: kununurra\n",
      "recorded 360: fort nelson\n",
      "recorded 361: rawson\n",
      "recorded 362: canoinhas\n",
      "recorded 363: lavrentiya\n",
      "recorded 364: westport\n",
      "mys shmidta city not found\n",
      "recorded 365: pelym\n",
      "recorded 366: collie\n",
      "recorded 367: kavieng\n",
      "recorded 368: isangel\n",
      "recorded 369: bingol\n",
      "recorded 370: trapani\n",
      "recorded 371: valreas\n",
      "recorded 372: gizo\n",
      "recorded 373: malanje\n",
      "recorded 374: carballo\n",
      "recorded 375: cockburn town\n",
      "recorded 376: canutama\n",
      "recorded 377: arys\n",
      "recorded 378: byron bay\n",
      "recorded 379: kirensk\n",
      "recorded 380: glendive\n",
      "recorded 381: kroya\n",
      "recorded 382: salinas\n",
      "recorded 383: samarai\n",
      "grand river south east city not found\n",
      "recorded 384: hudson bay\n",
      "recorded 385: harper\n",
      "recorded 386: taiyuan\n",
      "recorded 387: chunskiy\n",
      "recorded 388: bermejo\n",
      "recorded 389: rio gallegos\n",
      "recorded 390: ostrovnoy\n",
      "recorded 391: rock sound\n",
      "recorded 392: selma\n",
      "recorded 393: cao bang\n",
      "recorded 394: trairi\n",
      "recorded 395: bukachacha\n",
      "recorded 396: hazorasp\n",
      "recorded 397: sawakin\n",
      "recorded 398: nanortalik\n",
      "recorded 399: mwene-ditu\n",
      "recorded 400: idrinskoye\n",
      "recorded 401: kashirskoye\n",
      "recorded 402: harer\n",
      "nizhneyansk city not found\n",
      "recorded 403: steenbergen\n",
      "recorded 404: los llanos de aridane\n",
      "recorded 405: quatre cocos\n",
      "recorded 406: baglan\n",
      "recorded 407: eureka\n",
      "recorded 408: ucluelet\n",
      "recorded 409: bam\n",
      "recorded 410: leningradskiy\n",
      "recorded 411: toktogul\n",
      "recorded 412: senno\n",
      "recorded 413: sinnamary\n",
      "recorded 414: saint-georges\n",
      "recorded 415: leiden\n",
      "recorded 416: ilo\n",
      "recorded 417: vestmanna\n",
      "recorded 418: zaragoza\n",
      "recorded 419: gubden\n",
      "maloshuyka city not found\n",
      "recorded 420: kangaatsiaq\n",
      "recorded 421: nanga eboko\n",
      "recorded 422: deputatskiy\n",
      "recorded 423: makakilo city\n",
      "recorded 424: calama\n",
      "recorded 425: butterworth\n",
      "recorded 426: utete\n",
      "recorded 427: tarki\n",
      "recorded 428: port elizabeth\n",
      "recorded 429: lamar\n",
      "nguiu city not found\n",
      "recorded 430: shingu\n",
      "recorded 431: vila\n",
      "recorded 432: mocajuba\n",
      "recorded 433: bereda\n",
      "recorded 434: port lincoln\n",
      "recorded 435: mount gambier\n",
      "recorded 436: ayame\n",
      "recorded 437: palmer\n",
      "recorded 438: belaya gora\n",
      "recorded 439: korla\n",
      "recorded 440: hami\n",
      "recorded 441: kahului\n",
      "recorded 442: melita\n",
      "recorded 443: kenai\n",
      "recorded 444: zhezkazgan\n",
      "staryy biser city not found\n",
      "recorded 445: grindavik\n",
      "recorded 446: serenje\n",
      "recorded 447: ndele\n",
      "recorded 448: camacupa\n",
      "recorded 449: santa rosa\n",
      "recorded 450: hasaki\n",
      "recorded 451: yagoua\n",
      "recorded 452: huanren\n",
      "recorded 453: tombouctou\n",
      "recorded 454: caravelas\n",
      "recorded 455: indianola\n",
      "recorded 456: venancio aires\n",
      "recorded 457: gaillac\n",
      "recorded 458: khotyn\n",
      "recorded 459: talara\n",
      "recorded 460: baiao\n",
      "recorded 461: bollnas\n",
      "recorded 462: novovoronezh\n",
      "recorded 463: beitbridge\n",
      "recorded 464: karratha\n",
      "recorded 465: giyon\n",
      "recorded 466: carora\n",
      "recorded 467: aksarka\n",
      "recorded 468: skibbereen\n",
      "recorded 469: jiayuguan\n",
      "recorded 470: tsabong\n",
      "recorded 471: goderich\n",
      "recorded 472: lincoln\n",
      "recorded 473: ternate\n",
      "recorded 474: dovbysh\n",
      "recorded 475: nurpur\n",
      "recorded 476: vostok\n",
      "recorded 477: tabou\n",
      "recorded 478: yulara\n",
      "recorded 479: kudahuvadhoo\n",
      "recorded 480: ritchie\n",
      "recorded 481: zhoucheng\n",
      "recorded 482: aracataca\n",
      "recorded 483: jiuquan\n",
      "recorded 484: samalkot\n",
      "recorded 485: vila franca do campo\n",
      "recorded 486: maragogi\n",
      "recorded 487: am timan\n",
      "recorded 488: port hawkesbury\n",
      "recorded 489: santa cruz\n",
      "recorded 490: monrovia\n",
      "recorded 491: meget\n",
      "recorded 492: singaraja\n",
      "recorded 493: micheweni\n",
      "recorded 494: ginir\n",
      "recorded 495: tchollire\n",
      "recorded 496: zhengjiatun\n",
      "vaitupu city not found\n",
      "recorded 497: vaitape\n",
      "recorded 498: sharjah\n",
      "recorded 499: shumskiy\n",
      "recorded 500: florianopolis\n",
      "goteborg city not found\n",
      "recorded 501: san cristobal\n",
      "recorded 502: kontagora\n",
      "recorded 503: tshela\n",
      "recorded 504: itoman\n",
      "recorded 505: athabasca\n",
      "recorded 506: kamaishi\n",
      "recorded 507: abonnema\n",
      "recorded 508: arman\n",
      "recorded 509: gornopravdinsk\n",
      "recorded 510: tyrma\n",
      "recorded 511: moussoro\n",
      "recorded 512: mahibadhoo\n",
      "recorded 513: kizema\n",
      "recorded 514: alushta\n",
      "recorded 515: christchurch\n",
      "recorded 516: orcopampa\n",
      "recorded 517: punta de bombon\n",
      "recorded 518: suez\n",
      "recorded 519: koungou\n",
      "recorded 520: saint-leu\n",
      "recorded 521: aanekoski\n",
      "recorded 522: angoche\n",
      "recorded 523: ituporanga\n",
      "recorded 524: broken hill\n",
      "recorded 525: gadarwara\n",
      "recorded 526: bage\n",
      "recorded 527: semey\n",
      "recorded 528: livingston\n",
      "recorded 529: baragua\n",
      "recorded 530: sabha\n",
      "recorded 531: iqaluit\n",
      "recorded 532: raduzhnyy\n",
      "recorded 533: aqtobe\n",
      "recorded 534: santa isabel\n",
      "recorded 535: polovinnoye\n",
      "recorded 536: marabba\n",
      "recorded 537: vestmannaeyjar\n",
      "recorded 538: bud\n",
      "recorded 539: svobodnyy\n",
      "recorded 540: kismayo\n",
      "recorded 541: roald\n",
      "recorded 542: putina\n",
      "recorded 543: bay saint louis\n",
      "recorded 544: douglas\n",
      "recorded 545: werda\n",
      "recorded 546: yurino\n",
      "recorded 547: khudumelapye\n",
      "recorded 548: mvuma\n",
      "recorded 549: george town\n",
      "recorded 550: nurota\n",
      "recorded 551: shirokiy\n",
      "recorded 552: san jose\n",
      "marcona city not found\n",
      "recorded 553: porto-vecchio\n",
      "malwan city not found\n",
      "recorded 554: paamiut\n",
      "recorded 555: sasovo\n",
      "recorded 556: west wendover\n",
      "recorded 557: mareeba\n",
      "recorded 558: polewali\n",
      "recorded 559: springbok\n",
      "recorded 560: dahuk\n",
      "recorded 561: severo-yeniseyskiy\n",
      "recorded 562: hovd\n",
      "recorded 563: huescar\n",
      "umzimvubu city not found\n",
      "recorded 564: svetlogorsk\n",
      "recorded 565: nuuk\n",
      "recorded 566: richards bay\n",
      "recorded 567: bosaso\n",
      "recorded 568: hualmay\n",
      "recorded 569: lumphat\n",
      "recorded 570: nizhniy tsasuchey\n",
      "recorded 571: mglin\n",
      "recorded 572: misawa\n",
      "recorded 573: smoky lake\n",
      "recorded 574: la ronge\n",
      "recorded 575: turtas\n",
      "recorded 576: smithers\n",
      "recorded 577: paragominas\n",
      "recorded 578: brae\n"
     ]
    }
   ],
   "source": [
    "\n",
    "#cities_test = [\"Paris\", \"London\", \"Gretel\", \"Beijing\"]\n",
    "lat = []\n",
    "lng = []\n",
    "temp = []\n",
    "max_temp = []\n",
    "humidity = []\n",
    "cloudiness = []\n",
    "wind_speed = []\n",
    "country = []\n",
    "date = []\n",
    "name = []\n",
    "i = 0\n",
    "\n",
    "# Loop through the list of cities and perform a request for data on each\n",
    "# for city in cities:\n",
    "#     response = requests.get(query_url + city).json()\n",
    "#     if i % 50 == 0:\n",
    "#         time.sleep(5)\n",
    "\n",
    "#     try: \n",
    "#         lat.append(response['coord']['lat'])\n",
    "#         lng.append(response['coord']['lon'])\n",
    "#         temp.append(response['main']['temp'])\n",
    "#         max_temp.append(response['main']['temp_max'])\n",
    "#         humidity.append(response['main']['humidity'])\n",
    "#         cloudiness.append(response['clouds']['all'])\n",
    "#         wind_speed.append(response['wind']['speed'])\n",
    "#         country.append(response['sys']['country'])\n",
    "#         date.append(response['dt'])\n",
    "#         name.append(response['name'])\n",
    "#         i = i + 1\n",
    "#         print(f\"recorded {i}: {city}\")\n",
    "        \n",
    "#     except KeyError: \n",
    "#         print(f\"{city} city not found\")\n",
    "\n",
    "\n",
    "#print(response)\n",
    "\n",
    "#print(f\"The latitude is: {lat}\")\n",
    "#print(f\"The lon is: {lng}\") \n",
    "#print(f\"The temp is: {temp}\") \n",
    "#print(f\"The max temp is: {max_temp}\")\n",
    "#print(f\"The humidity is: {humidity}\")\n",
    "#print(f\"The cloudiness is: {cloudiness}\")\n",
    "#print(f\"The wind speed is: {wind_speed}\")\n",
    "#print(f\"The country is: {country}\")\n",
    "#print(f\"The date is: {date}\")"
   ]
  },
  {
   "cell_type": "code",
   "execution_count": 41,
   "metadata": {},
   "outputs": [
    {
     "name": "stdout",
     "output_type": "stream",
     "text": [
      "2020-10-17 02:02:18\n"
     ]
    }
   ],
   "source": [
    "d = datetime.utcfromtimestamp(1602900138)\n",
    "\n",
    "print(d)"
   ]
  },
  {
   "cell_type": "markdown",
   "metadata": {},
   "source": [
    "## Convert Raw Data to DataFrame\n",
    "* Save as csv"
   ]
  },
  {
   "cell_type": "code",
   "execution_count": 83,
   "metadata": {
    "scrolled": false
   },
   "outputs": [
    {
     "data": {
      "text/html": [
       "<div>\n",
       "<style scoped>\n",
       "    .dataframe tbody tr th:only-of-type {\n",
       "        vertical-align: middle;\n",
       "    }\n",
       "\n",
       "    .dataframe tbody tr th {\n",
       "        vertical-align: top;\n",
       "    }\n",
       "\n",
       "    .dataframe thead th {\n",
       "        text-align: right;\n",
       "    }\n",
       "</style>\n",
       "<table border=\"1\" class=\"dataframe\">\n",
       "  <thead>\n",
       "    <tr style=\"text-align: right;\">\n",
       "      <th></th>\n",
       "      <th>City</th>\n",
       "      <th>Latitude</th>\n",
       "      <th>Longitude</th>\n",
       "      <th>Max Temp</th>\n",
       "      <th>Humidity</th>\n",
       "      <th>Cloudiness</th>\n",
       "      <th>Wind Speed</th>\n",
       "      <th>Country</th>\n",
       "      <th>Date</th>\n",
       "    </tr>\n",
       "  </thead>\n",
       "  <tbody>\n",
       "    <tr>\n",
       "      <th>0</th>\n",
       "      <td>Kapaa</td>\n",
       "      <td>22.08</td>\n",
       "      <td>-159.32</td>\n",
       "      <td>82.40</td>\n",
       "      <td>74</td>\n",
       "      <td>1</td>\n",
       "      <td>12.75</td>\n",
       "      <td>US</td>\n",
       "      <td>1602901251</td>\n",
       "    </tr>\n",
       "    <tr>\n",
       "      <th>1</th>\n",
       "      <td>Okhotsk</td>\n",
       "      <td>59.38</td>\n",
       "      <td>143.30</td>\n",
       "      <td>27.88</td>\n",
       "      <td>80</td>\n",
       "      <td>0</td>\n",
       "      <td>10.94</td>\n",
       "      <td>RU</td>\n",
       "      <td>1602901256</td>\n",
       "    </tr>\n",
       "    <tr>\n",
       "      <th>2</th>\n",
       "      <td>Hambantota</td>\n",
       "      <td>6.12</td>\n",
       "      <td>81.12</td>\n",
       "      <td>75.20</td>\n",
       "      <td>94</td>\n",
       "      <td>40</td>\n",
       "      <td>4.70</td>\n",
       "      <td>LK</td>\n",
       "      <td>1602901256</td>\n",
       "    </tr>\n",
       "    <tr>\n",
       "      <th>3</th>\n",
       "      <td>Arraial do Cabo</td>\n",
       "      <td>-22.97</td>\n",
       "      <td>-42.03</td>\n",
       "      <td>69.76</td>\n",
       "      <td>74</td>\n",
       "      <td>100</td>\n",
       "      <td>5.91</td>\n",
       "      <td>BR</td>\n",
       "      <td>1602901257</td>\n",
       "    </tr>\n",
       "    <tr>\n",
       "      <th>4</th>\n",
       "      <td>Qeshm</td>\n",
       "      <td>26.96</td>\n",
       "      <td>56.27</td>\n",
       "      <td>68.00</td>\n",
       "      <td>18</td>\n",
       "      <td>0</td>\n",
       "      <td>9.17</td>\n",
       "      <td>IR</td>\n",
       "      <td>1602901257</td>\n",
       "    </tr>\n",
       "  </tbody>\n",
       "</table>\n",
       "</div>"
      ],
      "text/plain": [
       "              City  Latitude  Longitude  Max Temp  Humidity  Cloudiness  \\\n",
       "0            Kapaa     22.08    -159.32     82.40        74           1   \n",
       "1          Okhotsk     59.38     143.30     27.88        80           0   \n",
       "2       Hambantota      6.12      81.12     75.20        94          40   \n",
       "3  Arraial do Cabo    -22.97     -42.03     69.76        74         100   \n",
       "4            Qeshm     26.96      56.27     68.00        18           0   \n",
       "\n",
       "   Wind Speed Country        Date  \n",
       "0       12.75      US  1602901251  \n",
       "1       10.94      RU  1602901256  \n",
       "2        4.70      LK  1602901256  \n",
       "3        5.91      BR  1602901257  \n",
       "4        9.17      IR  1602901257  "
      ]
     },
     "execution_count": 83,
     "metadata": {},
     "output_type": "execute_result"
    }
   ],
   "source": [
    "weather_data_df = pd.DataFrame({\"City\": name, \"Latitude\": lat, \"Longitude\": lng, \"Max Temp\": max_temp, \"Humidity\": humidity, \"Cloudiness\": cloudiness, \"Wind Speed\": wind_speed, \"Country\": country, \"Date\": date})\n",
    "#weather_data_df[\"Date\"] = weather_data_df(datetime.utcfromtimestamp[\"Date\"])\n",
    "\n",
    "                                      \n",
    "weather_data_df.to_csv(output_data_file, index=False)\n",
    "weather_data_df.head()"
   ]
  },
  {
   "cell_type": "code",
   "execution_count": 84,
   "metadata": {},
   "outputs": [
    {
     "data": {
      "text/html": [
       "<div>\n",
       "<style scoped>\n",
       "    .dataframe tbody tr th:only-of-type {\n",
       "        vertical-align: middle;\n",
       "    }\n",
       "\n",
       "    .dataframe tbody tr th {\n",
       "        vertical-align: top;\n",
       "    }\n",
       "\n",
       "    .dataframe thead th {\n",
       "        text-align: right;\n",
       "    }\n",
       "</style>\n",
       "<table border=\"1\" class=\"dataframe\">\n",
       "  <thead>\n",
       "    <tr style=\"text-align: right;\">\n",
       "      <th></th>\n",
       "      <th>City</th>\n",
       "      <th>Latitude</th>\n",
       "      <th>Longitude</th>\n",
       "      <th>Max Temp</th>\n",
       "      <th>Humidity</th>\n",
       "      <th>Cloudiness</th>\n",
       "      <th>Wind Speed</th>\n",
       "      <th>Country</th>\n",
       "      <th>Date</th>\n",
       "    </tr>\n",
       "  </thead>\n",
       "  <tbody>\n",
       "    <tr>\n",
       "      <th>0</th>\n",
       "      <td>Kapaa</td>\n",
       "      <td>22.08</td>\n",
       "      <td>-159.32</td>\n",
       "      <td>82.40</td>\n",
       "      <td>74</td>\n",
       "      <td>1</td>\n",
       "      <td>12.75</td>\n",
       "      <td>US</td>\n",
       "      <td>1602901251</td>\n",
       "    </tr>\n",
       "    <tr>\n",
       "      <th>1</th>\n",
       "      <td>Okhotsk</td>\n",
       "      <td>59.38</td>\n",
       "      <td>143.30</td>\n",
       "      <td>27.88</td>\n",
       "      <td>80</td>\n",
       "      <td>0</td>\n",
       "      <td>10.94</td>\n",
       "      <td>RU</td>\n",
       "      <td>1602901256</td>\n",
       "    </tr>\n",
       "    <tr>\n",
       "      <th>2</th>\n",
       "      <td>Hambantota</td>\n",
       "      <td>6.12</td>\n",
       "      <td>81.12</td>\n",
       "      <td>75.20</td>\n",
       "      <td>94</td>\n",
       "      <td>40</td>\n",
       "      <td>4.70</td>\n",
       "      <td>LK</td>\n",
       "      <td>1602901256</td>\n",
       "    </tr>\n",
       "    <tr>\n",
       "      <th>3</th>\n",
       "      <td>Arraial do Cabo</td>\n",
       "      <td>-22.97</td>\n",
       "      <td>-42.03</td>\n",
       "      <td>69.76</td>\n",
       "      <td>74</td>\n",
       "      <td>100</td>\n",
       "      <td>5.91</td>\n",
       "      <td>BR</td>\n",
       "      <td>1602901257</td>\n",
       "    </tr>\n",
       "    <tr>\n",
       "      <th>4</th>\n",
       "      <td>Qeshm</td>\n",
       "      <td>26.96</td>\n",
       "      <td>56.27</td>\n",
       "      <td>68.00</td>\n",
       "      <td>18</td>\n",
       "      <td>0</td>\n",
       "      <td>9.17</td>\n",
       "      <td>IR</td>\n",
       "      <td>1602901257</td>\n",
       "    </tr>\n",
       "  </tbody>\n",
       "</table>\n",
       "</div>"
      ],
      "text/plain": [
       "              City  Latitude  Longitude  Max Temp  Humidity  Cloudiness  \\\n",
       "0            Kapaa     22.08    -159.32     82.40        74           1   \n",
       "1          Okhotsk     59.38     143.30     27.88        80           0   \n",
       "2       Hambantota      6.12      81.12     75.20        94          40   \n",
       "3  Arraial do Cabo    -22.97     -42.03     69.76        74         100   \n",
       "4            Qeshm     26.96      56.27     68.00        18           0   \n",
       "\n",
       "   Wind Speed Country        Date  \n",
       "0       12.75      US  1602901251  \n",
       "1       10.94      RU  1602901256  \n",
       "2        4.70      LK  1602901256  \n",
       "3        5.91      BR  1602901257  \n",
       "4        9.17      IR  1602901257  "
      ]
     },
     "execution_count": 84,
     "metadata": {},
     "output_type": "execute_result"
    }
   ],
   "source": [
    "#re-add date as CSV file \n",
    "file = \"../output_data/cities.csv\"\n",
    "\n",
    "cities_df = pd.read_csv(file)\n",
    "cities_df.head()\n",
    "\n"
   ]
  },
  {
   "cell_type": "markdown",
   "metadata": {},
   "source": [
    "## Plotting the Data\n",
    "* Use proper labeling of the plots using plot titles (including date of analysis) and axes labels.\n",
    "* Save the plotted figures as .pngs."
   ]
  },
  {
   "cell_type": "markdown",
   "metadata": {},
   "source": [
    "### Latitude vs. Temperature Plot"
   ]
  },
  {
   "cell_type": "code",
   "execution_count": 85,
   "metadata": {
    "scrolled": true
   },
   "outputs": [
    {
     "data": {
      "image/png": "[encoded data removed]",
      "text/plain": [
       "<Figure size 432x288 with 1 Axes>"
      ]
     },
     "metadata": {
      "needs_background": "light"
     },
     "output_type": "display_data"
    },
    {
     "data": {
      "text/plain": [
       "<Figure size 432x288 with 0 Axes>"
      ]
     },
     "metadata": {},
     "output_type": "display_data"
    }
   ],
   "source": [
    "plt.scatter(cities_df[\"Latitude\"],cities_df[\"Max Temp\"])\n",
    "plt.xlabel('Latitude')\n",
    "plt.ylabel('Max Temperature (F)')\n",
    "plt.title(\"City Latitude vs. Temperature (F) 10/16/2020\")\n",
    "plt.grid()\n",
    "\n",
    "plt.show()\n",
    "plt.savefig('../output_data/lat_temp.png')"
   ]
  },
  {
   "cell_type": "markdown",
   "metadata": {},
   "source": [
    "### Latitude vs. Humidity Plot"
   ]
  },
  {
   "cell_type": "code",
   "execution_count": 88,
   "metadata": {},
   "outputs": [
    {
     "data": {
      "image/png": "[encoded data removed]",
      "text/plain": [
       "<Figure size 432x288 with 1 Axes>"
      ]
     },
     "metadata": {
      "needs_background": "light"
     },
     "output_type": "display_data"
    },
    {
     "data": {
      "text/plain": [
       "<Figure size 432x288 with 0 Axes>"
      ]
     },
     "metadata": {},
     "output_type": "display_data"
    }
   ],
   "source": [
    "plt.scatter(cities_df[\"Latitude\"],cities_df[\"Humidity\"])\n",
    "plt.xlabel('Latitude')\n",
    "plt.ylabel('Humidity (%)')\n",
    "plt.title(\"City Latitude vs. Humidity 10/16/2020\")\n",
    "plt.grid()\n",
    "\n",
    "plt.show()\n",
    "plt.savefig('../output_data/humidity.png')"
   ]
  },
  {
   "cell_type": "markdown",
   "metadata": {},
   "source": [
    "### Latitude vs. Cloudiness Plot"
   ]
  },
  {
   "cell_type": "code",
   "execution_count": 89,
   "metadata": {},
   "outputs": [
    {
     "data": {
      "image/png": "[encoded data removed]",
      "text/plain": [
       "<Figure size 432x288 with 1 Axes>"
      ]
     },
     "metadata": {
      "needs_background": "light"
     },
     "output_type": "display_data"
    },
    {
     "data": {
      "text/plain": [
       "<Figure size 432x288 with 0 Axes>"
      ]
     },
     "metadata": {},
     "output_type": "display_data"
    }
   ],
   "source": [
    "plt.scatter(cities_df[\"Latitude\"],cities_df[\"Cloudiness\"])\n",
    "plt.xlabel('Latitude')\n",
    "plt.ylabel('Cloudiness (%)')\n",
    "plt.title(\"City Latitude vs. Cloudiness 10/16/2020\")\n",
    "plt.grid()\n",
    "\n",
    "plt.show()\n",
    "plt.savefig('../output_data/cloudiness.png')"
   ]
  },
  {
   "cell_type": "markdown",
   "metadata": {},
   "source": [
    "### Latitude vs. Wind Speed Plot"
   ]
  },
  {
   "cell_type": "code",
   "execution_count": 90,
   "metadata": {},
   "outputs": [
    {
     "data": {
      "image/png": "[encoded data removed]",
      "text/plain": [
       "<Figure size 432x288 with 1 Axes>"
      ]
     },
     "metadata": {
      "needs_background": "light"
     },
     "output_type": "display_data"
    },
    {
     "data": {
      "text/plain": [
       "<Figure size 432x288 with 0 Axes>"
      ]
     },
     "metadata": {},
     "output_type": "display_data"
    }
   ],
   "source": [
    "plt.scatter(cities_df[\"Latitude\"],cities_df[\"Wind Speed\"])\n",
    "plt.xlabel('Latitude')\n",
    "plt.ylabel('Wind Speed (mph)')\n",
    "plt.title(\"City Latitude vs. Wind Speed 10/16/2020\")\n",
    "plt.grid()\n",
    "\n",
    "plt.show()\n",
    "plt.savefig('../output_data/wind_speed.png')"
   ]
  },
  {
   "cell_type": "markdown",
   "metadata": {},
   "source": [
    "## Linear Regression"
   ]
  },
  {
   "cell_type": "markdown",
   "metadata": {},
   "source": [
    "### Write linear regression plot function (optional)"
   ]
  },
  {
   "cell_type": "code",
   "execution_count": null,
   "metadata": {},
   "outputs": [],
   "source": [
    "#x_values = (cities_df[])\n",
    "#y_values = (cities_df[])\n",
    "\n",
    "(slope, intercept, rvalue, pvalue, stderr) = linregress(x_values, y_values)\n",
    "regress_values = x_values * slope + intercept\n",
    "line_eq = \"y = \" + str(round(slope,2)) + \"x + \" + str(round(intercept,2))\n",
    "plt.scatter(x_values,y_values)\n",
    "plt.plot(x_values,regress_values,\"r-\")\n",
    "# plt.annotate(line_eq,(20,36),fontsize=15,color=\"red\")\n",
    "# plt.xlabel(\"\")\n",
    "# plt.ylabel(\"\")\n",
    "# plt.title(\"\")\n",
    "\n",
    "plt.show()"
   ]
  },
  {
   "cell_type": "markdown",
   "metadata": {},
   "source": [
    "###  Northern Hemisphere - Max Temp vs. Latitude Linear Regression"
   ]
  },
  {
   "cell_type": "code",
   "execution_count": 25,
   "metadata": {},
   "outputs": [
    {
     "name": "stdout",
     "output_type": "stream",
     "text": [
      "The r-value is: 0.46937863826630627\n"
     ]
    },
    {
     "data": {
      "image/png": "[encoded data removed]",
      "text/plain": [
       "<Figure size 432x288 with 1 Axes>"
      ]
     },
     "metadata": {
      "needs_background": "light"
     },
     "output_type": "display_data"
    }
   ],
   "source": []
  },
  {
   "cell_type": "markdown",
   "metadata": {},
   "source": [
    "###  Southern Hemisphere - Max Temp vs. Latitude Linear Regression"
   ]
  },
  {
   "cell_type": "code",
   "execution_count": 26,
   "metadata": {},
   "outputs": [
    {
     "name": "stdout",
     "output_type": "stream",
     "text": [
      "The r-value is: 0.6082708688906918\n"
     ]
    },
    {
     "data": {
      "image/png": "[encoded data removed]",
      "text/plain": [
       "<Figure size 432x288 with 1 Axes>"
      ]
     },
     "metadata": {
      "needs_background": "light"
     },
     "output_type": "display_data"
    }
   ],
   "source": []
  },
  {
   "cell_type": "markdown",
   "metadata": {},
   "source": [
    "###  Northern Hemisphere - Humidity (%) vs. Latitude Linear Regression"
   ]
  },
  {
   "cell_type": "code",
   "execution_count": 27,
   "metadata": {},
   "outputs": [
    {
     "name": "stdout",
     "output_type": "stream",
     "text": [
      "The r-value is: 0.000543987878808455\n"
     ]
    },
    {
     "data": {
      "image/png": "[encoded data removed]",
      "text/plain": [
       "<Figure size 432x288 with 1 Axes>"
      ]
     },
     "metadata": {
      "needs_background": "light"
     },
     "output_type": "display_data"
    }
   ],
   "source": []
  },
  {
   "cell_type": "markdown",
   "metadata": {},
   "source": [
    "###  Southern Hemisphere - Humidity (%) vs. Latitude Linear Regression"
   ]
  },
  {
   "cell_type": "code",
   "execution_count": 28,
   "metadata": {},
   "outputs": [
    {
     "name": "stdout",
     "output_type": "stream",
     "text": [
      "The r-value is: 0.014985174297345524\n"
     ]
    },
    {
     "data": {
      "image/png": "[encoded data removed]",
      "text/plain": [
       "<Figure size 432x288 with 1 Axes>"
      ]
     },
     "metadata": {
      "needs_background": "light"
     },
     "output_type": "display_data"
    }
   ],
   "source": []
  },
  {
   "cell_type": "markdown",
   "metadata": {},
   "source": [
    "###  Northern Hemisphere - Cloudiness (%) vs. Latitude Linear Regression"
   ]
  },
  {
   "cell_type": "code",
   "execution_count": 29,
   "metadata": {},
   "outputs": [
    {
     "name": "stdout",
     "output_type": "stream",
     "text": [
      "The r-value is: 0.0020898727664228514\n"
     ]
    },
    {
     "data": {
      "image/png": "[encoded data removed]",
      "text/plain": [
       "<Figure size 432x288 with 1 Axes>"
      ]
     },
     "metadata": {
      "needs_background": "light"
     },
     "output_type": "display_data"
    }
   ],
   "source": []
  },
  {
   "cell_type": "markdown",
   "metadata": {},
   "source": [
    "###  Southern Hemisphere - Cloudiness (%) vs. Latitude Linear Regression"
   ]
  },
  {
   "cell_type": "code",
   "execution_count": 30,
   "metadata": {},
   "outputs": [
    {
     "name": "stdout",
     "output_type": "stream",
     "text": [
      "The r-value is: 0.0035263772085582894\n"
     ]
    },
    {
     "data": {
      "image/png": "[encoded data removed]",
      "text/plain": [
       "<Figure size 432x288 with 1 Axes>"
      ]
     },
     "metadata": {
      "needs_background": "light"
     },
     "output_type": "display_data"
    }
   ],
   "source": []
  },
  {
   "cell_type": "markdown",
   "metadata": {},
   "source": [
    "###  Northern Hemisphere - Wind Speed (mph) vs. Latitude Linear Regression"
   ]
  },
  {
   "cell_type": "code",
   "execution_count": 31,
   "metadata": {},
   "outputs": [
    {
     "name": "stdout",
     "output_type": "stream",
     "text": [
      "The r-value is: 0.04019723576144484\n"
     ]
    },
    {
     "data": {
      "image/png": "[encoded data removed]",
      "text/plain": [
       "<Figure size 432x288 with 1 Axes>"
      ]
     },
     "metadata": {
      "needs_background": "light"
     },
     "output_type": "display_data"
    }
   ],
   "source": []
  },
  {
   "cell_type": "markdown",
   "metadata": {},
   "source": [
    "###  Southern Hemisphere - Wind Speed (mph) vs. Latitude Linear Regression"
   ]
  },
  {
   "cell_type": "code",
   "execution_count": 32,
   "metadata": {},
   "outputs": [
    {
     "name": "stdout",
     "output_type": "stream",
     "text": [
      "The r-value is: 0.017128274759839232\n"
     ]
    },
    {
     "data": {
      "image/png": "[encoded data removed]",
      "text/plain": [
       "<Figure size 432x288 with 1 Axes>"
      ]
     },
     "metadata": {
      "needs_background": "light"
     },
     "output_type": "display_data"
    }
   ],
   "source": []
  },
  {
   "cell_type": "code",
   "execution_count": null,
   "metadata": {},
   "outputs": [],
   "source": []
  }
 ],
 "metadata": {
  "anaconda-cloud": {},
  "kernel_info": {
   "name": "python3"
  },
  "kernelspec": {
   "display_name": "Python 3",
   "language": "python",
   "name": "python3"
  },
  "language_info": {
   "codemirror_mode": {
    "name": "ipython",
    "version": 3
   },
   "file_extension": ".py",
   "mimetype": "text/x-python",
   "name": "python",
   "nbconvert_exporter": "python",
   "pygments_lexer": "ipython3",
   "version": "3.7.6"
  },
  "latex_envs": {
   "LaTeX_envs_menu_present": true,
   "autoclose": false,
   "autocomplete": true,
   "bibliofile": "biblio.bib",
   "cite_by": "apalike",
   "current_citInitial": 1,
   "eqLabelWithNumbers": true,
   "eqNumInitial": 1,
   "hotkeys": {
    "equation": "Ctrl-E",
    "itemize": "Ctrl-I"
   },
   "labels_anchors": false,
   "latex_user_defs": false,
   "report_style_numbering": false,
   "user_envs_cfg": false
  },
  "nteract": {
   "version": "0.12.3"
  },
  "toc": {
   "base_numbering": 1,
   "nav_menu": {},
   "number_sections": true,
   "sideBar": true,
   "skip_h1_title": false,
   "title_cell": "Table of Contents",
   "title_sidebar": "Contents",
   "toc_cell": false,
   "toc_position": {},
   "toc_section_display": true,
   "toc_window_display": false
  },
  "varInspector": {
   "cols": {
    "lenName": 16,
    "lenType": 16,
    "lenVar": 40
   },
   "kernels_config": {
    "python": {
     "delete_cmd_postfix": "",
     "delete_cmd_prefix": "del ",
     "library": "var_list.py",
     "varRefreshCmd": "print(var_dic_list())"
    },
    "r": {
     "delete_cmd_postfix": ") ",
     "delete_cmd_prefix": "rm(",
     "library": "var_list.r",
     "varRefreshCmd": "cat(var_dic_list()) "
    }
   },
   "types_to_exclude": [
    "module",
    "function",
    "builtin_function_or_method",
    "instance",
    "_Feature"
   ],
   "window_display": false
  }
 },
 "nbformat": 4,
 "nbformat_minor": 2
}
